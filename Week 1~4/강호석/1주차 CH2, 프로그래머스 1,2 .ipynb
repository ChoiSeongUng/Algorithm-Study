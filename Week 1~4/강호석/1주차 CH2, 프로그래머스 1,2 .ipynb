{
 "cells": [
  {
   "cell_type": "code",
   "execution_count": 14,
   "metadata": {},
   "outputs": [
    {
     "name": "stdout",
     "output_type": "stream",
     "text": [
      "5\n",
      "[5, 8, 2, 9, 4, 6, 1, 3, 7]\n",
      "2\n",
      "[2, 5, 8, 9, 4, 6, 1, 3, 7]\n",
      "9\n",
      "[2, 5, 8, 9, 4, 6, 1, 3, 7]\n",
      "4\n",
      "[2, 4, 5, 8, 9, 6, 1, 3, 7]\n",
      "6\n",
      "[2, 4, 5, 6, 8, 9, 1, 3, 7]\n",
      "1\n",
      "[1, 2, 4, 5, 6, 8, 9, 3, 7]\n",
      "3\n",
      "[1, 2, 3, 4, 5, 6, 8, 9, 7]\n",
      "7\n",
      "[1, 2, 3, 4, 5, 6, 7, 8, 9]\n"
     ]
    }
   ],
   "source": [
    "A=[8,5,2,9,4,6,1,3,7]\n",
    "for j in range(1,len(A)):\n",
    "    key = A[j]\n",
    "    i = j-1\n",
    "    print(key)\n",
    "    while (i>-1) & (A[i]>key):\n",
    "        A[i+1] = A[i]\n",
    "        i = i-1\n",
    "    A[i+1] = key\n",
    "    print(A)"
   ]
  },
  {
   "cell_type": "code",
   "execution_count": 4,
   "metadata": {},
   "outputs": [
    {
     "data": {
      "text/plain": [
       "6"
      ]
     },
     "execution_count": 4,
     "metadata": {},
     "output_type": "execute_result"
    }
   ],
   "source": [
    "# 13p 왜 반복문 부분은 cost가 n이고 나머지는 -1 이 되는 가?\n",
    "# =>모든 인자에 대해 조건문을 만족하는 지 확인, 조건이 안맞는 경우까지 확인후 반복문을 마무리 하므로  "
   ]
  },
  {
   "cell_type": "code",
   "execution_count": 1,
   "metadata": {},
   "outputs": [],
   "source": [
    "def merge_sort(list):\n",
    "    if len(list) <= 1:\n",
    "        return list\n",
    "    mid = len(list) // 2  #  요부분이 안됐었음 \n",
    "    leftList = list[:mid]\n",
    "    rightList = list[mid:]\n",
    "    leftList = merge_sort(leftList)\n",
    "    rightList = merge_sort(rightList)\n",
    "    return merge(leftList, rightList)"
   ]
  },
  {
   "cell_type": "code",
   "execution_count": 2,
   "metadata": {},
   "outputs": [],
   "source": [
    "def merge(left, right):\n",
    "    result = []\n",
    "    while len(left) > 0 or len(right) > 0:\n",
    "        if len(left) > 0 and len(right) > 0:\n",
    "            if left[0] <= right[0]:\n",
    "                result.append(left[0])\n",
    "                left = left[1:]\n",
    "            else:\n",
    "                result.append(right[0])\n",
    "                right = right[1:]\n",
    "        elif len(left) > 0:\n",
    "            result.append(left[0])\n",
    "            left = left[1:]\n",
    "        elif len(right) > 0:\n",
    "            result.append(right[0])\n",
    "            right = right[1:]\n",
    "    return result"
   ]
  },
  {
   "cell_type": "code",
   "execution_count": 4,
   "metadata": {},
   "outputs": [
    {
     "data": {
      "text/plain": [
       "[1, 2, 3, 4, 5, 6, 7, 8]"
      ]
     },
     "execution_count": 4,
     "metadata": {},
     "output_type": "execute_result"
    }
   ],
   "source": [
    "merge_sort([5,2,4,7,1,3,6,8])"
   ]
  },
  {
   "cell_type": "markdown",
   "metadata": {},
   "source": [
    "# 프로그래머스 1,2"
   ]
  },
  {
   "cell_type": "code",
   "execution_count": 1,
   "metadata": {},
   "outputs": [],
   "source": [
    "#1 k번째 수 , 3점 \n",
    "def solution(array, commands):\n",
    "    answer=[]\n",
    "    for idx in range(len(commands)):\n",
    "        i = commands[idx][0]-1\n",
    "        j = commands[idx][1]\n",
    "        k = commands[idx][2]-1\n",
    "        sub_commands = sorted(array[i:j])[k]\n",
    "        answer.append(sub_commands)\n",
    "    return answer"
   ]
  },
  {
   "cell_type": "code",
   "execution_count": 2,
   "metadata": {},
   "outputs": [],
   "source": [
    "def solution(arr, cmd):\n",
    "    ans=[]\n",
    "    for i,j,k in cmd:\n",
    "       ans.append(sorted(arr[i-1:j])[k-1]) # 한번에 3개를 반복문 인자로 쓸 수 있다 \n",
    "    return ans"
   ]
  },
  {
   "cell_type": "code",
   "execution_count": 3,
   "metadata": {},
   "outputs": [],
   "source": [
    "def solution(array, commands):\n",
    "    return list(map(lambda x:sorted(array[x[0]-1:x[1]])[x[2]-1], commands))"
   ]
  },
  {
   "cell_type": "code",
   "execution_count": 4,
   "metadata": {},
   "outputs": [
    {
     "data": {
      "text/plain": [
       "[5, 6, 3]"
      ]
     },
     "execution_count": 4,
     "metadata": {},
     "output_type": "execute_result"
    }
   ],
   "source": [
    "solution([1, 5, 2, 6, 3, 7, 4],[[2, 5, 3], [4, 4, 1], [1, 7, 3]])"
   ]
  },
  {
   "cell_type": "code",
   "execution_count": 5,
   "metadata": {},
   "outputs": [],
   "source": [
    "#2 가장 큰 수, 7점 \n",
    "# 앞자리 수가 크면 앞으로 보내기\n",
    "# 숫자의 자리 수가 다르면 더 자리수가 적은 숫자는 다시 맨 처음자리를 비교 기준이 되므로 반복해서 붙인 뒤 비교하는 것과 같은 결과  \n",
    "def solution(numbers):\n",
    "    numbers = list(map(str, numbers))                # map(func,list) : 리스트 전부 함수에 적용 \n",
    "    numbers.sort(key = lambda x: x*3, reverse=True) # list.sort(key=) key에 적힌 기준으로 리스트 정렬, 기존 값들은 유지됨 \n",
    "    return str(int(''.join(numbers)))                # 기존에 리스트가 필요 없을 때 사용 "
   ]
  },
  {
   "cell_type": "code",
   "execution_count": 6,
   "metadata": {},
   "outputs": [],
   "source": [
    "def solution(numbers):\n",
    "    numbers = list(map(str, numbers))\n",
    "    numbers = sorted(numbers,key = lambda x: x*3,reverse=True) # sorted는 따로 할당해줘야 가능  \n",
    "    return str(int(''.join(numbers)))"
   ]
  },
  {
   "cell_type": "code",
   "execution_count": 7,
   "metadata": {},
   "outputs": [
    {
     "data": {
      "text/plain": [
       "'9534330'"
      ]
     },
     "execution_count": 7,
     "metadata": {},
     "output_type": "execute_result"
    }
   ],
   "source": [
    "solution([3, 30, 34, 5, 9])"
   ]
  },
  {
   "cell_type": "code",
   "execution_count": null,
   "metadata": {},
   "outputs": [],
   "source": []
  }
 ],
 "metadata": {
  "kernelspec": {
   "display_name": "Python 3",
   "language": "python",
   "name": "python3"
  },
  "language_info": {
   "codemirror_mode": {
    "name": "ipython",
    "version": 3
   },
   "file_extension": ".py",
   "mimetype": "text/x-python",
   "name": "python",
   "nbconvert_exporter": "python",
   "pygments_lexer": "ipython3",
   "version": "3.7.6"
  }
 },
 "nbformat": 4,
 "nbformat_minor": 4
}
