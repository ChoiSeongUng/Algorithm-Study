{
 "cells": [
  {
   "cell_type": "markdown",
   "metadata": {},
   "source": [
    "# Asymptotic notation : input size인 n에 대한 계산 횟수 함수\n",
    "## Θ-notation : 상한선과 하한선을 모두 가지는 계산 횟수 함수??\n",
    "## O-notation : 상한선을 가지며 계산횟수가 가장 많아지는 형태의 함수 형태\n",
    "## Ω-notation : 최대 차수가 가장 적어지는 ,하한선을 가지는 형태의 함수 형태 \n",
    "## 모두 non-negative 해야 함"
   ]
  },
  {
   "cell_type": "markdown",
   "metadata": {},
   "source": [
    "## 모든 n>=n0에 대해 0 ≤ c1 · g(n) ≤ f(n) ≤ c2 ⋅ g(n) 의 형태를 가질 경우 Θ(g(n)) - notation을 가진다고 할 수 있다\n",
    "## 계산을 통해 c1,c2,n0 값을 구 할 수 있으면 정의 가능, 다만 이 값들은 상수로 n의 관한 형태로 표현되면 안된다."
   ]
  },
  {
   "cell_type": "markdown",
   "metadata": {},
   "source": [
    "# O-notation\n",
    "## O(g(n))= {0 ≤ f(n) ≤ c⋅g(n) for all n ≥ n0}, c와 n0를 구할 수 있을 때 정의 \n",
    "## 가장 연산이 많은 worst case와 같은 n의 차수 형태, 상한선만을 정의 \n",
    "## Θ-notation의 최대 차수와 O-notation의 최대 차수는 다를 수 있다 (insertion sort)"
   ]
  },
  {
   "cell_type": "markdown",
   "metadata": {},
   "source": [
    "# Complexities 계산\n",
    "## 모든 시행 구문의 시행 횟수의 합\n",
    "## if ~ else 구문의 경우 해당 구문 내 가장 많은 시행회수(Max(a~z))\n",
    "## loop는 (지정한 반복 회수 i ) x (지정 반복회수 j) x ... x (회수 당 시행 구문)\n",
    "## loop 안에 함수가 있는 경우 함수의 (최대 차수)x(반복 시행 회수)                                                          ex) n회수를 가지는 함수가 n 번 반복하는 loop에 있으면 n^2에 대한 회수\n"
   ]
  },
  {
   "cell_type": "markdown",
   "metadata": {},
   "source": [
    "# Ω-notation\n",
    "## 최소 값을 가지는, 가장 적은 시행회수와 n의 차수가 같은 형태의 함수 \n",
    "## Ω(g(n)) = 0 ≤ c⋅g(n) ≤ f(n) for all n ≥ n0 을 만족하는 c와 n0가 존재 "
   ]
  },
  {
   "cell_type": "markdown",
   "metadata": {},
   "source": [
    "## 21p 0-notation에 n^2에 관한 함수에 log가 들어가도 되나??\n",
    "## 21p 0-notation은 best case, Ω-notation은 worst case에 관한 건데 그럼 두 개가 예시가 바뀌어야하지 않나??\n",
    "## 23p는 무슨 말? => 결국 모든 notation에서 중요한 건 최고 차수??, 그 밑 차수는 그닥 안필요한거???"
   ]
  },
  {
   "cell_type": "markdown",
   "metadata": {},
   "source": [
    "# divide-and-conquer\n",
    "## 큰 문제를 분해해서 일관되게 적용될 수 있는 알고리즘을 확인\n",
    "## 이후 분해된 작은 문제를 해결 후 병합하는 과정을 반복\n",
    "## T(n)문제를 2T(n/2) 형태로 바꾸는 과정, 큰 문제를 작은 문제 2번을 해결하는 것으로 처리 "
   ]
  },
  {
   "cell_type": "markdown",
   "metadata": {},
   "source": [
    "# Stock investment problem\n",
    "## 수익 예상 표를 보고 가장 이윤을 얻을 수 있는 구매/판매시점 찾기\n",
    "## 단순 날짜 2개를 짝지으려면 nC2만큼의 알고리즘 계산 필요\n",
    "## 수익 변화의 합이 가장 커지는 maximum_subarray를 이용해도 n^2 notation이 됨 + 모든 값이 양수이면 전체의 합이 가장 커져 별로임"
   ]
  },
  {
   "cell_type": "code",
   "execution_count": 27,
   "metadata": {},
   "outputs": [],
   "source": [
    "import numpy as np"
   ]
  },
  {
   "cell_type": "code",
   "execution_count": 39,
   "metadata": {},
   "outputs": [],
   "source": [
    "def find_max_cross_sub(A,low,mid,high):\n",
    "    left_sum=np.Inf\n",
    "    su=0\n",
    "    for i in range(mid,low,-1):\n",
    "        su += A[i]\n",
    "        if su > left_sum:\n",
    "            left_sum=su\n",
    "            max_left=i\n",
    "    right_sum = -np.inf\n",
    "    su=0\n",
    "    for j in range(mid+1,high):\n",
    "        su += A[j]\n",
    "        if su > right_sum:\n",
    "            right_sum=su\n",
    "            max_right=j\n",
    "    return max_left,max_right,left_sum+right_sum"
   ]
  },
  {
   "cell_type": "code",
   "execution_count": 40,
   "metadata": {},
   "outputs": [],
   "source": [
    "def find_max_sub(A,low,high):\n",
    "    if high == low:\n",
    "        return (low,high,A[low])\n",
    "    else:\n",
    "        mid = (low+high)//2\n",
    "        left_low, left_high, left_sum = find_max_sub(A,low,mid)\n",
    "        right_low, right_high, right_sum = find_max_sub(A,mid+1,high)\n",
    "        cross_low, cross_high, cross_sum = find_max_cross_sub(A,low,mid,high)\n",
    "        if (left_sum >= right_sum) & (left_sum >= cross_sum):\n",
    "            return left_low,left_high,left_sum\n",
    "        elif (right_sum >= left_sum) & (right_sum >= cross_sum):\n",
    "            return right_low, right_high, right_sum\n",
    "        else:\n",
    "            return cross_low , cross_high, cross_sum"
   ]
  },
  {
   "cell_type": "code",
   "execution_count": 96,
   "metadata": {},
   "outputs": [],
   "source": [
    "# square matrix multiplication\n",
    "def square_mat_multi(A,B):\n",
    "    n = len(A[0,:])\n",
    "    C=np.zeros((n,n))\n",
    "    for i in range(n):\n",
    "        for j in range(n):\n",
    "            c=0\n",
    "            for k in range(n):\n",
    "                c +=A[i,k]*B[k,j]\n",
    "            C[i,j]=c\n",
    "    return C"
   ]
  },
  {
   "cell_type": "code",
   "execution_count": 97,
   "metadata": {},
   "outputs": [
    {
     "data": {
      "text/plain": [
       "array([[ 96.,  68.,  69.,  69.],\n",
       "       [ 24.,  56.,  18.,  52.],\n",
       "       [ 58.,  95.,  71.,  92.],\n",
       "       [ 90., 107.,  81., 142.]])"
      ]
     },
     "execution_count": 97,
     "metadata": {},
     "output_type": "execute_result"
    }
   ],
   "source": [
    "A=np.array(([5,2,6,1],[0,6,2,0],[3,8,1,4],[1,8,5,6]))\n",
    "B=np.array(([7,5,8,0],[1,8,2,6],[9,4,3,8],[5,3,7,9]))\n",
    "square_mat_multi(A,B)"
   ]
  },
  {
   "cell_type": "markdown",
   "metadata": {},
   "source": [
    "# substitution method \n",
    "## 재귀적 알고리즘을 해결하는 방법 중 하나 \n",
    "## 기존 알고리즘에 예측되는 답의 형태를 넣었을 때 적용이 되는 지를 확인\n",
    "## T(n) = 2 T( 𝑛/2 ) + n 일때 (재귀적 상태), 예상되는 형태가 T(n) = O(n lg(n))이면 이 형태를 대입했을때 T(n) ≤ c n lg(n) 이 성립하면 된다(적당한 c)\n",
    "## 특정 조건(n=1이라던지...)에서는 성립하지 않을 수 있다. 그래서 n>n0일 때 substitution을 만족하는 n0를 찾고 base case를 조정 \n",
    "## 일반적인 법칙은 없으며 알아서 해라"
   ]
  },
  {
   "cell_type": "markdown",
   "metadata": {},
   "source": [
    "# recursion-tree\n",
    "## 각 노드별 subproblem의 cost 값들을 계산 , 이후 총합을 확인한다.\n",
    "## 지수 값이 log가 되는 이유는 ?\n",
    "## recursion-tree를 통해 O(nlog(n))이 상한선이 됨을 증명하면 최적의 알고리즘??(T(n) ≤ d n lg(n) 증명)"
   ]
  },
  {
   "cell_type": "markdown",
   "metadata": {},
   "source": [
    "# Master method\n",
    "## T(n) = aT(𝑛/𝑏) + f(n),  a ≥ 1 and b > 1 이고 상수,  f(𝑛) is an asymptotically positive function\n",
    "## f(n)과 n^(logb (a)) 을 비교하여 T(n)의 형태를 결정 (f(n)이 작을 때,같을때 클때 순서)\n",
    "## Case 1. T(n) < 𝑛^log𝑏 𝑎 & polynomially smaller ⇒ T(n) = Θ(𝑛log𝑏 𝑎).\n",
    "## Case 2. T(n) = 𝑛^log𝑏 𝑎 ⇒ T(n) = Θ(𝑛log𝑏(𝑎) lg (n))\n",
    "## Case 3. T(n) > 𝑛^log𝑏 𝑎 & polynomially larger & regularity condition ⇒ T(n) = Θ(𝑓(𝑛)).\n",
    "\n",
    "## case1,3의 경우 뒤의 조건 polyno~,regularity condition까지 만족해야 적용가능"
   ]
  },
  {
   "cell_type": "markdown",
   "metadata": {},
   "source": [
    "# 프로그래머스 완전탐색"
   ]
  },
  {
   "cell_type": "code",
   "execution_count": 2,
   "metadata": {},
   "outputs": [],
   "source": [
    "# 모의고사 해결\n",
    "def solution(answers):\n",
    "    one = list([1,2,3,4,5]*2000)[:len(answers)]                                    # 작성 답안\n",
    "    two = list([2,1,2,3,2,4,2,5]*1250)[:len(answers)]\n",
    "    three = list([3,3,1,1,2,2,4,4,5,5]*1000)[:len(answers)]\n",
    "    One = sum([1 if answers[i]==one[i] else 0 for i in range(len(answers))])      # 맞춘 답의 합 \n",
    "    Two = sum([1 if answers[i]==two[i] else 0 for i in range(len(answers))])\n",
    "    Three = sum([1 if answers[i]==three[i] else 0 for i in range(len(answers))])\n",
    "    answer=[]\n",
    "    scores=[One,Two,Three]\n",
    "    max_score=max(One,Two,Three)\n",
    "    for i in range(3):\n",
    "        if scores[i]==max_score:\n",
    "            answer.append(i+1)\n",
    "    return answer"
   ]
  },
  {
   "cell_type": "code",
   "execution_count": 3,
   "metadata": {},
   "outputs": [
    {
     "data": {
      "text/plain": [
       "[1]"
      ]
     },
     "execution_count": 3,
     "metadata": {},
     "output_type": "execute_result"
    }
   ],
   "source": [
    "solution([1,2,3,4,5])"
   ]
  },
  {
   "cell_type": "code",
   "execution_count": 4,
   "metadata": {},
   "outputs": [
    {
     "data": {
      "text/plain": [
       "array([False,  True,  True,  True, False])"
      ]
     },
     "execution_count": 4,
     "metadata": {},
     "output_type": "execute_result"
    }
   ],
   "source": [
    "# np.array 사용시 비교하면 같은 지 다른지 보여줌 \n",
    "import numpy as np\n",
    "np.array([1,2,3,4,5])==np.array([2,2,3,4,1])"
   ]
  },
  {
   "cell_type": "code",
   "execution_count": 11,
   "metadata": {},
   "outputs": [],
   "source": [
    "# 소수 찾기 구글링함\n",
    "\n",
    "import itertools \n",
    "from itertools import permutations\n",
    "\n",
    "def solution(numbers):\n",
    "    all_arr=[]\n",
    "    answerset=set()\n",
    "    \n",
    "    maximum=10000000\n",
    "    prime_arr=[False,False]+[True]*maximum\n",
    "    for idx,number in enumerate(prime_arr):\n",
    "        if number:\n",
    "            k=idx*2\n",
    "            while k <= maximum:\n",
    "                prime_arr[k]=False\n",
    "                k += idx\n",
    "    \n",
    "    for i in range(1,len(numbers)+1):\n",
    "        all_arr.append(list(map(''.join,itertools.permutations(numbers,i))))\n",
    "    \n",
    "    for i in all_arr:\n",
    "        for j in i:\n",
    "            if prime_arr[int(j)]:\n",
    "                answerset.add(int(j))\n",
    "    answer = len(answerset)\n",
    "    return answer"
   ]
  },
  {
   "cell_type": "code",
   "execution_count": 12,
   "metadata": {},
   "outputs": [
    {
     "data": {
      "text/plain": [
       "[('1', '2'), ('1', '3'), ('2', '1'), ('2', '3'), ('3', '1'), ('3', '2')]"
      ]
     },
     "execution_count": 12,
     "metadata": {},
     "output_type": "execute_result"
    }
   ],
   "source": [
    "list(permutations('123',2))"
   ]
  },
  {
   "cell_type": "code",
   "execution_count": 13,
   "metadata": {},
   "outputs": [],
   "source": [
    "# 요것도 구글링 \n",
    "from itertools import permutations\n",
    "def solution(numbers):\n",
    "    # 주어진 numbers로 만들 수 있는 모든 조합 \n",
    "    num_list = []\n",
    "    for i in range(1, len(numbers)+1):\n",
    "        temp = permutations(numbers, i)     # permutations(조합할 대상,조합 결과의 길이)\n",
    "        for j in temp:\n",
    "            num_list.append(int(''.join(j)))\n",
    "    num_list = list(set(num_list))\n",
    "    answer = len(num_list)                  # 중복을 제거하기 위한 set 함수 \n",
    "    for i in list(set(num_list)):\n",
    "        if i < 2:                           # 1은 소수가 아니므로 \n",
    "            answer-=1\n",
    "        for j in range(2, int(i**0.5)+1):  # 어떤 숫자 i가 가지는 소인수의 최대 범위는 i^2라고 한다\n",
    "            if i%j==0:                     # 그 범위 이내에 나누어 떨어지는 숫자가 있으면 소수가 아니므로 -1 \n",
    "                answer-=1\n",
    "                break\n",
    "    print(num_list)\n",
    "    return answer"
   ]
  },
  {
   "cell_type": "code",
   "execution_count": 14,
   "metadata": {},
   "outputs": [
    {
     "name": "stdout",
     "output_type": "stream",
     "text": [
      "[1, 71, 17, 7]\n"
     ]
    },
    {
     "data": {
      "text/plain": [
       "3"
      ]
     },
     "execution_count": 14,
     "metadata": {},
     "output_type": "execute_result"
    }
   ],
   "source": [
    "solution('17')"
   ]
  },
  {
   "cell_type": "code",
   "execution_count": 15,
   "metadata": {},
   "outputs": [],
   "source": [
    "# 카펫 5점 해결 \n",
    "def solution(brown,yellow):\n",
    "    if yellow==1:\n",
    "        return [3,3]\n",
    "    else:\n",
    "        for i in range(1,yellow//2+1):\n",
    "            if (yellow%i == 0) & (brown == (i+yellow/i)*2+4):\n",
    "                answer=[int(yellow/i + 2),i+2]\n",
    "                return answer"
   ]
  },
  {
   "cell_type": "code",
   "execution_count": 16,
   "metadata": {},
   "outputs": [
    {
     "name": "stdout",
     "output_type": "stream",
     "text": [
      "[4, 3] [3, 3] [8, 6]\n"
     ]
    }
   ],
   "source": [
    "print(solution(10,2),solution(8,1),solution(24,24))"
   ]
  },
  {
   "cell_type": "code",
   "execution_count": null,
   "metadata": {},
   "outputs": [],
   "source": []
  }
 ],
 "metadata": {
  "kernelspec": {
   "display_name": "Python 3",
   "language": "python",
   "name": "python3"
  },
  "language_info": {
   "codemirror_mode": {
    "name": "ipython",
    "version": 3
   },
   "file_extension": ".py",
   "mimetype": "text/x-python",
   "name": "python",
   "nbconvert_exporter": "python",
   "pygments_lexer": "ipython3",
   "version": "3.7.6"
  }
 },
 "nbformat": 4,
 "nbformat_minor": 4
}
