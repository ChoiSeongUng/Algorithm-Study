{
 "cells": [
  {
   "cell_type": "markdown",
   "metadata": {},
   "source": [
    "# Algorithm Study - Week 3\n",
    "\n",
    "## 1. Probabilistic Analysis and Randomized Algorithms\n",
    "- hiring Problem"
   ]
  },
  {
   "cell_type": "markdown",
   "metadata": {},
   "source": [
    "Ci : 면접에 쓰이는 비용 (low)  <br>\n",
    "Ch : 고용에 쓰이는 비용 (high) <br>\n",
    "n : 면접 볼 지원자 수 (고정) <br>\n",
    "m : 고용할 지원자 수 <br>\n",
    "> 따라서, Ch * m 이 중요 / 시간 복잡도 = O(Ci * n + Ch * m) <br>\n",
    "모든 면접자를 고용하게 될 때가 the worst case / Ch * m = Ch * n"
   ]
  },
  {
   "cell_type": "markdown",
   "metadata": {},
   "source": [
    "## 2. Heapsort"
   ]
  },
  {
   "cell_type": "markdown",
   "metadata": {},
   "source": [
    "- 힙 속성(heap property)은 다음 두 가지이다.\n",
    "\n",
    "    - heap order property <br> \n",
    "    각 노드의 값은 자신의 자식노드가 가진 값보다 크거나 같다(최대 힙, Max heap).  <br>\n",
    "    각 노드의 값은 자신의 자식노드가 가진 값보다 작거나 같다(최소 힙, Min heap).\n",
    "    - heap shape property : 모양은 완전이진트리이다. 즉 마지막 레벨의 모든 노드는 왼쪽에 쏠려 있다. "
   ]
  },
  {
   "cell_type": "markdown",
   "metadata": {},
   "source": [
    "### 2-1. max-heapify"
   ]
  },
  {
   "cell_type": "code",
   "execution_count": 90,
   "metadata": {},
   "outputs": [],
   "source": [
    "# 예시 코드 - 1st trial\n",
    "# 수정할 노드를 지정\n",
    "\n",
    "def max_heapify(A,i) :\n",
    "    \n",
    "    L = i*2 + 1\n",
    "    R = i*2 + 2\n",
    "    \n",
    "    if L < len(A) and A[L] > A[i] :\n",
    "        largest = L\n",
    "    else :\n",
    "        largest = i\n",
    "    \n",
    "    if R < len(A) and A[R] > A[largest] :\n",
    "        largest = R\n",
    "    \n",
    "    if largest != i :\n",
    "        temp = A[i]\n",
    "        A[i] = A[largest]\n",
    "        A[largest] = temp\n",
    "        max_heapify(A, largest)\n",
    "    \n",
    "    return A"
   ]
  },
  {
   "cell_type": "code",
   "execution_count": 91,
   "metadata": {},
   "outputs": [
    {
     "data": {
      "text/plain": [
       "[16, 14, 10, 8, 7, 9, 3, 2, 4, 1]"
      ]
     },
     "execution_count": 91,
     "metadata": {},
     "output_type": "execute_result"
    }
   ],
   "source": [
    "input1 = [16,4,10,14,7,9,3,2,8,1]\n",
    "max_heapify(input, 1)"
   ]
  },
  {
   "cell_type": "code",
   "execution_count": 92,
   "metadata": {},
   "outputs": [],
   "source": [
    "# 예시 코드 - 2nd trial\n",
    "# array가 입력되면 max_heap sort 진행\n",
    "\n",
    "def max_heapify2(A) :\n",
    "    \n",
    "    for i in range(int(len(A)/2), -1, -1) :\n",
    "        \n",
    "        L = i*2 + 1\n",
    "        R = i*2 + 2\n",
    "    \n",
    "        if L < len(A) and A[L] > A[i] :\n",
    "            largest = L\n",
    "        else :\n",
    "            largest = i\n",
    "    \n",
    "        if R < len(A) and A[R] > A[largest] :\n",
    "            largest = R\n",
    "    \n",
    "        if largest != i :\n",
    "            temp = A[i]\n",
    "            A[i] = A[largest]\n",
    "            A[largest] = temp\n",
    "            max_heapify2(A)\n",
    "    \n",
    "    return A"
   ]
  },
  {
   "cell_type": "code",
   "execution_count": 93,
   "metadata": {},
   "outputs": [
    {
     "data": {
      "text/plain": [
       "[16, 14, 10, 8, 7, 9, 3, 2, 4, 1]"
      ]
     },
     "execution_count": 93,
     "metadata": {},
     "output_type": "execute_result"
    }
   ],
   "source": [
    "input2 = [4,1,3,2,16,9,10,14,8,7]\n",
    "max_heapify2(input2)"
   ]
  },
  {
   "cell_type": "code",
   "execution_count": 96,
   "metadata": {},
   "outputs": [],
   "source": [
    "# 예시 코드 - 2nd trial\n",
    "# array가 입력되면 max_heap sort 진행\n",
    "\n",
    "def build_max_heap(A) :\n",
    "    \n",
    "    heap_size = len(A)\n",
    "    \n",
    "    for i in range(int(heap_size/2), -1, -1) :\n",
    "        max_heapify(A, i)\n",
    "    \n",
    "    return A"
   ]
  },
  {
   "cell_type": "code",
   "execution_count": 97,
   "metadata": {},
   "outputs": [
    {
     "data": {
      "text/plain": [
       "[16, 14, 10, 8, 7, 9, 3, 2, 4, 1]"
      ]
     },
     "execution_count": 97,
     "metadata": {},
     "output_type": "execute_result"
    }
   ],
   "source": [
    "input2 = [4,1,3,2,16,9,10,14,8,7]\n",
    "build_max_heap(input2)"
   ]
  },
  {
   "cell_type": "markdown",
   "metadata": {},
   "source": [
    "### 2-2. Heapsort"
   ]
  },
  {
   "cell_type": "code",
   "execution_count": 118,
   "metadata": {},
   "outputs": [],
   "source": [
    "# 예시 코드\n",
    "\n",
    "def my_heap(arr) :\n",
    "    \n",
    "    build_max_heap(arr)\n",
    "    \n",
    "    for i in range(len(arr)-1, 0, -1) :\n",
    "        temp = arr[i]\n",
    "        arr[i] = arr[0]\n",
    "        arr[0] = temp\n",
    "        arr = max_heapify(arr[:i], 0) + arr[i:]\n",
    "        \n",
    "        print(arr)\n",
    "    return arr"
   ]
  },
  {
   "cell_type": "code",
   "execution_count": 119,
   "metadata": {},
   "outputs": [
    {
     "name": "stdout",
     "output_type": "stream",
     "text": [
      "[14, 10, 9, 8, 3, 2, 4, 1, 7, 16]\n",
      "[10, 8, 9, 7, 3, 2, 4, 1, 14, 16]\n",
      "[9, 8, 4, 7, 3, 2, 1, 10, 14, 16]\n",
      "[8, 7, 4, 1, 3, 2, 9, 10, 14, 16]\n",
      "[7, 3, 4, 1, 2, 8, 9, 10, 14, 16]\n",
      "[4, 3, 2, 1, 7, 8, 9, 10, 14, 16]\n",
      "[3, 1, 2, 4, 7, 8, 9, 10, 14, 16]\n",
      "[2, 1, 3, 4, 7, 8, 9, 10, 14, 16]\n",
      "[1, 2, 3, 4, 7, 8, 9, 10, 14, 16]\n"
     ]
    },
    {
     "data": {
      "text/plain": [
       "[1, 2, 3, 4, 7, 8, 9, 10, 14, 16]"
      ]
     },
     "execution_count": 119,
     "metadata": {},
     "output_type": "execute_result"
    }
   ],
   "source": [
    "my_heap(input2)"
   ]
  },
  {
   "cell_type": "markdown",
   "metadata": {},
   "source": [
    "- Q. time complexity"
   ]
  },
  {
   "cell_type": "markdown",
   "metadata": {},
   "source": [
    "### 2-3. min-heapify"
   ]
  },
  {
   "cell_type": "code",
   "execution_count": 88,
   "metadata": {},
   "outputs": [],
   "source": [
    "def min_heapify(A) :\n",
    "    \n",
    "    heap_size = len(A)\n",
    "    \n",
    "    for i in range(int(heap_size/2)-1, -1, -1) :\n",
    "        \n",
    "        L = i*2 + 1\n",
    "        R = i*2 + 2\n",
    "        \n",
    "        #if R < heap_size and A[R] < A[L] : # L 과 R 의 순서 고려하는 부분 추가\n",
    "        #    smaller = A[R]\n",
    "        #    A[R] = A[L]\n",
    "        #    A[L] = smaller\n",
    "        \n",
    "        if R < heap_size and A[R] < A[i] :\n",
    "            smallest = R\n",
    "        else :\n",
    "            smallest = i\n",
    "    \n",
    "        if L < heap_size and A[L] < A[smallest] :\n",
    "            smallest = L\n",
    "    \n",
    "        if smallest != i :\n",
    "            temp = A[i]\n",
    "            A[i] = A[smallest]\n",
    "            A[smallest] = temp\n",
    "            min_heapify(A)\n",
    "    \n",
    "    return A"
   ]
  },
  {
   "cell_type": "code",
   "execution_count": 89,
   "metadata": {},
   "outputs": [
    {
     "data": {
      "text/plain": [
       "[1, 2, 3, 4, 7, 9, 10, 14, 8, 16]"
      ]
     },
     "execution_count": 89,
     "metadata": {},
     "output_type": "execute_result"
    }
   ],
   "source": [
    "input2 = [4,1,3,2,16,9,10,14,8,7]\n",
    "min_heapify(input2)"
   ]
  },
  {
   "cell_type": "markdown",
   "metadata": {},
   "source": [
    "## 프로그래머스 예제"
   ]
  },
  {
   "cell_type": "markdown",
   "metadata": {},
   "source": [
    "- 더 맵게"
   ]
  },
  {
   "cell_type": "code",
   "execution_count": 187,
   "metadata": {},
   "outputs": [],
   "source": [
    "# my trial\n",
    "\n",
    "def solution(scoville, K):\n",
    "    answer = 0\n",
    "    \n",
    "    scoville.sort()\n",
    "    \n",
    "    while scoville[0] < K :\n",
    "        answer += 1\n",
    "        scoville[0] = scoville[0] + (scoville[1]*2)\n",
    "        del scoville[1]\n",
    "            \n",
    "    return answer"
   ]
  },
  {
   "cell_type": "code",
   "execution_count": 188,
   "metadata": {},
   "outputs": [
    {
     "data": {
      "text/plain": [
       "2"
      ]
     },
     "execution_count": 188,
     "metadata": {},
     "output_type": "execute_result"
    }
   ],
   "source": [
    "arr = [1, 2, 3, 9, 10, 12]\n",
    "solution(arr, 7)"
   ]
  },
  {
   "cell_type": "code",
   "execution_count": 189,
   "metadata": {},
   "outputs": [],
   "source": [
    "# other solution\n",
    "\n",
    "import heapq\n",
    "\n",
    "def solution(scoville, k):\n",
    "    heapq.heapify(scoville)\n",
    "    i = 0\n",
    "    while scoville[0] < k:\n",
    "        if len(scoville) > 1:\n",
    "            heapq.heappush(scoville, heapq.heappop(scoville) + (heapq.heappop(scoville) * 2))\n",
    "            i += 1\n",
    "        else:\n",
    "            return -1\n",
    "    return i"
   ]
  },
  {
   "cell_type": "markdown",
   "metadata": {},
   "source": [
    "> heapq를 사용한 다른 사람들의 풀이 코드를 보고 heapq 를 사용해본 예시이다. 사용할 생각도 못했음... <br>\n",
    "heappush는 원소 추가, heappop은 원소 삭제에 사용된다"
   ]
  }
 ],
 "metadata": {
  "kernelspec": {
   "display_name": "Python 3",
   "language": "python",
   "name": "python3"
  },
  "language_info": {
   "codemirror_mode": {
    "name": "ipython",
    "version": 3
   },
   "file_extension": ".py",
   "mimetype": "text/x-python",
   "name": "python",
   "nbconvert_exporter": "python",
   "pygments_lexer": "ipython3",
   "version": "3.7.6"
  }
 },
 "nbformat": 4,
 "nbformat_minor": 4
}
