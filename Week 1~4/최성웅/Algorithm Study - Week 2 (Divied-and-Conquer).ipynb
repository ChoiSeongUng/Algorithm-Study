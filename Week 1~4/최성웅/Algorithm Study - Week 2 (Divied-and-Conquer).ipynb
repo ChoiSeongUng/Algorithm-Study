{
 "cells": [
  {
   "cell_type": "markdown",
   "metadata": {},
   "source": [
    "# Algorithm Study - Week 2\n",
    "### (8.3 ~ 8.11)\n",
    "\n",
    "## 4. Divide and Conquer"
   ]
  },
  {
   "cell_type": "markdown",
   "metadata": {},
   "source": [
    "##### Divide : the problem into a number of subproblems that are smaller instances of the same problem.\n",
    "##### Conquer : the subproblems by solving them recursively.\n",
    "##### Combine : the solutions to the subproblems into the solution for the original problem.\n",
    "\n",
    "> base case : 적어도 하나의 recursion에 빠지지 않는 경우가 존재해야 한다. <br>\n",
    "> recursive case : recursion을 반복하다보면 결국 base case로 수렴해야 한다.\n",
    "\n",
    "---------\n",
    "\n",
    "#### Three methods for solving recurrences(점화식)\n",
    "- substitution method(치환법)\n",
    "    - 한계를 추측한 후 그 추측식이 옮음을 증명하기 위해 귀납법 사용\n",
    "    - 문제가 쉬운 경우에만 적용(단점)\n",
    "- recursion-tree method(재귀트리 방법)\n",
    "    - 점화식을 각 노드가 재귀 호출의 해당 레벨에 따른 비용을 나타내도록 만든 트리로 변환하여 점화식을 품\n",
    "    - 그리고 이를 위해 합의 합계를 구하는 기법 이용\n",
    "- master method\n",
    "\n",
    "> 쉬운 문제인 경우 치환법을 이용해 풀 수 있으나 복잡한 문제인 경우 <br>\n",
    "①재귀트리를 이용하여 추측식을 구하고, <br>\n",
    "②구한 추측식을 치환법을 사용하여 증명하는 방법으로 문제를 해결"
   ]
  },
  {
   "cell_type": "markdown",
   "metadata": {},
   "source": [
    "## 4-1. Divide-and-Conquer based Algorithms"
   ]
  },
  {
   "cell_type": "markdown",
   "metadata": {},
   "source": [
    "### 4-1-1. Maximum Subarray Problem (최대구간합 문제)"
   ]
  },
  {
   "cell_type": "markdown",
   "metadata": {},
   "source": [
    "> 참고링크 : https://shoark7.github.io/programming/algorithm/4-ways-to-get-subarray-consecutive-sum  \n",
    "최대구간합 문제의 해결 알고리즘은 시간복잡도에 따라 여러가지가 있다. **각 방법에 대해 굉장히 쉽게 설명이 잘 되어 있다.**\n",
    "\n",
    "##### EX) 카데인 알고리즘 (원소가 연속된 부분배열의 최대합 )\n",
    "\n",
    "배열을 순차적으로 탐색하면서 원소를 하나씩 더해가는데, 원소를 하나 더할때마다 합이 0보다 큰지 검사한다.\n",
    "\n",
    "만약 현재 더한 원소가 음수여서 합이 0보다 작아진다면 합을 0으로 만들고 다시 처음부터 더해간다.\n",
    "\n",
    "즉, 합을 음수에서 시작하는것 보다 이전의 합을 다 초기화시키고 0 이상에서 시작하는게 무조건 이득!\n",
    "\n",
    "\n",
    "\n",
    "> EX\n",
    "\n",
    "\n",
    "A = {2, -3, 2, 3, 4, -5}를 순차적으로 탐색해보자. 그리고 Sum(i)가 i번째 원소까지의 합이라고 두자.\n",
    "\n",
    "1. 첫 원소 탐색 (A[0] = 2)\n",
    "\n",
    "Sum(0) = 2이다.\n",
    "\n",
    "2. 두번째 원소 탐색(A[1] = -3)\n",
    "\n",
    "Sum(1) = 2 + (-3) = -1 이다. 여기서 합이 음수가 되었다.\n",
    "\n",
    "3. 세번째 원소 탐색(A[2] = 2)\n",
    "\n",
    "Sum(2) = -1 + 2 = 1 이다. \n",
    "\n",
    "하지만 만약 Sum(1)의 값이 -1이 아니라 0으로 초기화 했다면?\n",
    "\n",
    "Sum(2) = 0 + 2 = 2 로써 더 큰 합을 구할 수 있다.\n",
    "\n",
    "여기서 0으로 초기화한다는 것은 우리가 고려할 부분배열 {2, -3 ,2}에서 첫 두 원소를 빼고 {2}로 바꾸는 것이다.\n",
    "\n",
    "즉 앞의 두 원소 2, -3을 합에 포함시키는 것 보다 포함 시키지 않는 것이 전체 합을 최대화 하는데에 기여한다.\n",
    "\n",
    "중요한건 새 원소를 탐색하여 더할 때마다의 합, 즉 Sum(i)이 현재까지의 Sum(i)중 최댓값이라면 다른 변수에 담아줘야한다. \n",
    "\n",
    "(예시: maxSum) \n",
    "\n",
    "탐색이 다 끝나면 우리의 최종 답은 그 maxSum 변수에 담긴 값이다. \n",
    "\n",
    "이렇게 각각의 탐색, 즉 O(n)의 시간복잡도로 문제를 해결할 수 있다!\n",
    "\n",
    "이 알고리즘을 Kadane's Algorithm이라고 부르기도 하는데, 유명한 문제인 것으로 보인다."
   ]
  },
  {
   "cell_type": "markdown",
   "metadata": {},
   "source": [
    "### 교재 내용 - A solution using divide-and-conquer\n",
    "\n",
    "- 배열을 절반씩 나누기 때문에 기본적으로 log2n인데 나눌 때마다 n개의 답을 찾기 때문에 결과적으로 nlog2n의 시간복잡도가 계산된다."
   ]
  },
  {
   "cell_type": "code",
   "execution_count": 3,
   "metadata": {},
   "outputs": [],
   "source": [
    "# 예시 코드\n",
    "\n",
    "def divide_conquer(arr):\n",
    "    MIN = -2 ** 31 - 1 #하한선\n",
    "    N = len(arr)\n",
    "\n",
    "    def find(lo, hi):\n",
    "        # 1.\n",
    "        if lo == hi:\n",
    "            return arr[lo]\n",
    "\n",
    "        mid = (lo + hi) // 2\n",
    "\t# 2.\n",
    "        left = find(lo, mid)\n",
    "        right = find(mid+1, hi)\n",
    "\n",
    "        # 3.\n",
    "        tmp = 0\n",
    "        left_part = MIN\n",
    "        for i in range(mid, lo-1, -1):\n",
    "            tmp += arr[i]\n",
    "            left_part = max(left_part, tmp)\n",
    "\n",
    "        tmp = 0\n",
    "        right_part = MIN\n",
    "        for i in range(mid+1, hi+1):\n",
    "            tmp += arr[i]\n",
    "            right_part = max(right_part, tmp)\n",
    "\n",
    "        # 4.\n",
    "        return max(left, right, left_part + right_part)\n",
    "\n",
    "    # 5.\n",
    "    return find(0, N-1)"
   ]
  },
  {
   "cell_type": "code",
   "execution_count": 5,
   "metadata": {},
   "outputs": [
    {
     "data": {
      "text/plain": [
       "8"
      ]
     },
     "execution_count": 5,
     "metadata": {},
     "output_type": "execute_result"
    }
   ],
   "source": [
    "input1 = [-2, 1, -3, 7, -2, 2, 1, -5, 4]\n",
    "divide_conquer(input1)"
   ]
  },
  {
   "cell_type": "markdown",
   "metadata": {},
   "source": [
    "### 4-1-2. Strassen’s algorithm for matrix multiplication"
   ]
  },
  {
   "cell_type": "markdown",
   "metadata": {},
   "source": [
    "일반 행렬곱 알고리즘은 A 행렬의 가로성분 불러오는데 for문 한번, B 행렬의 세로성분을 불러오는데 for문 한번, <br>\n",
    "각 성분을 불러오면서 더하는데에 for문 한 번이므로 n x n x n =  n^3 의 시간 복잡도를 가진다.  <br>\n",
    "3차 시간 알고리즘은 n이 조금만 증가해도 계산량이 기하급수적으로 증가하게 된다.  \n",
    "<br>\n",
    "이를 보완하기위해 나온 행렬곱셈법이 **Strassen's algorithm for matrix multiplication(쉬트라센 행렬 곱셈법)** 이다."
   ]
  },
  {
   "cell_type": "code",
   "execution_count": 6,
   "metadata": {},
   "outputs": [],
   "source": [
    "# 시간 복잡도 O(n^3)의 행렬 곱셈 알고리즘 예시\n",
    "\n",
    "def solution(arr1, arr2):\n",
    "    answer = []\n",
    "    for i in range(0, len(arr1)):\n",
    "        temp_row = []\n",
    "        for j in range(0, len(arr2[0])):\n",
    "            value = 0\n",
    "            for k in range(0, len(arr1[0])):\n",
    "                value = 0\n",
    "                for k in range(0, len(arr1[0])):\n",
    "                    value += arr[i][k] * arr2[k][j]\n",
    "                temp_row.append(value)\n",
    "            answer.append(temper_row)\n",
    "            \n",
    "        return answer"
   ]
  },
  {
   "cell_type": "markdown",
   "metadata": {},
   "source": [
    "##### 시간 복잡도 O(n^2.807355)의 슈트라센 행렬곱 알고리즘 참고 링크 : https://techotech.tistory.com/4\n",
    "\n",
    "#### Strassen's Algorithm의 사용\n",
    "\n",
    "O-Notation 상의 속도는 더 빠르나,  \n",
    "<br>\n",
    "i) Starssen's Algorithm은 재귀적으로 실행되어 시간이 오래 걸리며, 반복적 알고리즘으로 바꾸는데 어렵다.  \n",
    "<br>\n",
    "ii) P,Q,R,S,T,U,V (분할된 행렬의 곱셈 결과갑)를 담아둘 자리를 기억장치 안에 마련해야 하므로, 행렬이 클 경우 자리를 너무 많이 차지한다.  \n",
    "<br>\n",
    "<br>\n",
    "실제 컴퓨터에서 돌리면, 속도가 더 느리게 나온다고 하는데\n",
    "\n",
    "이는 Strassen's Algorithm의 O-Notation앞에 엄청 큰 상수가 곱해지기 때문이다.\n",
    "\n",
    "따라서, Strassen's Algorithm이 행렬의 곱셈 보다 더 빠르게 수행되기 위해선 엄청 큰 n이 필요하며\n",
    "\n",
    "너무 큰 n의 크기에 의해 주로 슈퍼 컴퓨터에 사용된다.\n",
    "\n",
    " \n",
    "\n",
    "Strassen's Algorithm의 놀라운 점은 O(n^3)의 속도가 깨지지 않을 것이라 생각했는데\n",
    "\n",
    "이보다 작은 시간이 나왔다는 것이 놀라운 이유이다.\n",
    "\n",
    "현재 Strassen's Algorithm보다 더 빠른 알고리즘이 몇 나왔지만 성능차이가 크지 않고\n",
    "\n",
    "P~V와 같은 것들이 훨씬 많아서 사용할 수 없다.\n",
    "\n",
    "더 빠른 성능이 있는데, 아직까지 최적의 알고리즘을 찾지 못한 상태이다."
   ]
  },
  {
   "cell_type": "markdown",
   "metadata": {},
   "source": [
    "## 프로그래머스 실습"
   ]
  },
  {
   "cell_type": "markdown",
   "metadata": {},
   "source": [
    "### 1. 모의고사\n",
    "\n",
    "- my trial"
   ]
  },
  {
   "cell_type": "code",
   "execution_count": 65,
   "metadata": {},
   "outputs": [],
   "source": [
    "from itertools import chain, repeat\n",
    "\n",
    "def solution(answers):\n",
    "    \n",
    "    N = len(answers)\n",
    "    ar1 = [1,2,3,4,5]\n",
    "    ar2 = [2,1,2,3,2,4,2,5]\n",
    "    ar3 = [3,3,1,1,2,2,4,4,5,5]\n",
    "    \n",
    "    student1 = list(chain.from_iterable(repeat(ar1, 2000)))[:N]\n",
    "    student2 = list(chain.from_iterable(repeat(ar2, 1250)))[:N]\n",
    "    student3 = list(chain.from_iterable(repeat(ar3, 1000)))[:N]\n",
    "    \n",
    "    score = {'1' : 0, '2' : 0, '3' : 0}\n",
    "    \n",
    "    for i in range(0, N):\n",
    "        if student1[i] == answers[i]:\n",
    "            score['1'] += 1\n",
    "        if student2[i] == answers[i]:\n",
    "            score['2'] += 1\n",
    "        if student3[i] == answers[i]:\n",
    "            score['3'] += 1\n",
    "            \n",
    "    answer = list(map(int, [k for k, v in score.items() if v == max(score.values())]))\n",
    "            \n",
    "    return answer"
   ]
  },
  {
   "cell_type": "code",
   "execution_count": 66,
   "metadata": {},
   "outputs": [
    {
     "name": "stdout",
     "output_type": "stream",
     "text": [
      "[1]\n",
      "[1, 2, 3]\n"
     ]
    }
   ],
   "source": [
    "trial1 = [1, 2, 3, 4, 5]\n",
    "trial2 = [1, 3, 2, 4, 2]\n",
    "\n",
    "print(solution(trial1))\n",
    "print(solution(trial2))"
   ]
  },
  {
   "cell_type": "markdown",
   "metadata": {},
   "source": [
    "- Others' solution"
   ]
  },
  {
   "cell_type": "code",
   "execution_count": 68,
   "metadata": {},
   "outputs": [],
   "source": [
    "def solution_other(answers):\n",
    "    pattern1 = [1,2,3,4,5]\n",
    "    pattern2 = [2,1,2,3,2,4,2,5]\n",
    "    pattern3 = [3,3,1,1,2,2,4,4,5,5]\n",
    "    score = [0, 0, 0]\n",
    "    result = []\n",
    "\n",
    "    for idx, answer in enumerate(answers):\n",
    "        if answer == pattern1[idx%len(pattern1)]:\n",
    "            score[0] += 1\n",
    "        if answer == pattern2[idx%len(pattern2)]:\n",
    "            score[1] += 1\n",
    "        if answer == pattern3[idx%len(pattern3)]:\n",
    "            score[2] += 1\n",
    "\n",
    "    for idx, s in enumerate(score):\n",
    "        if s == max(score):\n",
    "            result.append(idx+1)\n",
    "\n",
    "    return result"
   ]
  },
  {
   "cell_type": "code",
   "execution_count": 69,
   "metadata": {},
   "outputs": [
    {
     "name": "stdout",
     "output_type": "stream",
     "text": [
      "[1]\n",
      "[1, 2, 3]\n"
     ]
    }
   ],
   "source": [
    "print(solution_other(trial1))\n",
    "print(solution_other(trial2))"
   ]
  },
  {
   "cell_type": "markdown",
   "metadata": {},
   "source": [
    "> **review**  다른 참고 없이 코드를 구현했음에도 형태가 크게 다르지 않았다. 평소 잘 사용하지 않았던 enumerate 함수와 지난 주 스터디 모범 답안에 있던 map, lambda 등의 사용 예시를 다시 찾아볼 것."
   ]
  },
  {
   "cell_type": "markdown",
   "metadata": {},
   "source": [
    "### 2. 소수 찾기"
   ]
  },
  {
   "cell_type": "markdown",
   "metadata": {},
   "source": [
    "> 참고 <br>\n",
    "https://medium.com/@dltkddud4403/python-%EC%88%9C%EC%97%B4-%EC%A1%B0%ED%95%A9-%EA%B5%AC%ED%98%84-5e496e74621c"
   ]
  },
  {
   "cell_type": "markdown",
   "metadata": {},
   "source": [
    "- my trial"
   ]
  },
  {
   "cell_type": "code",
   "execution_count": 144,
   "metadata": {},
   "outputs": [],
   "source": [
    "from itertools import permutations\n",
    "\n",
    "def solution(numbers):\n",
    "    \n",
    "    per = []\n",
    "    nums = list(numbers) \n",
    "    \n",
    "    for i in range(1, len(nums)+1):\n",
    "        for j in list(permutations(nums, i)):\n",
    "            per.append(j)\n",
    "            \n",
    "    number = []\n",
    "    for k in per:\n",
    "        number.append(int(''.join(k)))\n",
    "        \n",
    "    all_num = set(number)\n",
    "    \n",
    "    answer = 0\n",
    "    for n in all_num:        \n",
    "    \n",
    "        if (n % 2 == 1) and (n > 3):\n",
    "            m = round(n ** 0.5) +1\n",
    "            temp = 0\n",
    "            for i in range(3, m, 2):\n",
    "                if n % i == 0:\n",
    "                    temp += 1\n",
    "        \n",
    "            if temp == 0:\n",
    "                answer += 1\n",
    "        \n",
    "        elif (n == 2) or (n == 3):\n",
    "            answer += 1\n",
    "    \n",
    "    return answer"
   ]
  },
  {
   "cell_type": "markdown",
   "metadata": {},
   "source": [
    "> 참고한 내용 <br>\n",
    "- itertools 의 permutations 함수 및 사용법 <br>\n",
    "- 문자를 글자별로 나누어서 리스트 만드는 것 <br>\n",
    "- 각 문자를 합치는 것  <br>\n",
    "- **소수의 특징** : 특정 숫자 N의 제곱근 r 을 기준으로, 곱해서 N이 될 수 있는 약수들이 같은 개수로 분포한다. 따라서 N이 소수인지를 알고 싶으면 N의 제곱근까지만 검사해보면 된다.\n",
    "\n",
    "**review** 존재를 알더라도 사용법에 익숙하지 않은 함수들을 문제 풀 때마다 정확하게 익히도록 하자."
   ]
  },
  {
   "cell_type": "markdown",
   "metadata": {},
   "source": [
    "- others' solution"
   ]
  },
  {
   "cell_type": "code",
   "execution_count": 145,
   "metadata": {},
   "outputs": [],
   "source": [
    "from itertools import permutations\n",
    "\n",
    "def solution(n):\n",
    "    a = set()\n",
    "    for i in range(len(n)):\n",
    "        a |= set(map(int, map(\"\".join, permutations(list(n), i + 1))))\n",
    "    a -= set(range(0, 2))\n",
    "    for i in range(2, int(max(a) ** 0.5) + 1):\n",
    "        a -= set(range(i * 2, max(a) + 1, i))\n",
    "    return len(a)"
   ]
  },
  {
   "cell_type": "markdown",
   "metadata": {},
   "source": [
    "> 추가 학습할 내용\n",
    "<br>\n",
    "- 에라토스테네스의 체 : https://53perc.tistory.com/entry/%ED%8C%8C%EC%9D%B4%EC%8D%AC-%EC%86%8C%EC%88%98-%ED%8C%90%EB%B3%84%ED%95%98%EA%B8%B0  <br>\n",
    "- itertools 없이 조합, 순열 구하는 법"
   ]
  }
 ],
 "metadata": {
  "kernelspec": {
   "display_name": "Python 3",
   "language": "python",
   "name": "python3"
  },
  "language_info": {
   "codemirror_mode": {
    "name": "ipython",
    "version": 3
   },
   "file_extension": ".py",
   "mimetype": "text/x-python",
   "name": "python",
   "nbconvert_exporter": "python",
   "pygments_lexer": "ipython3",
   "version": "3.7.6"
  }
 },
 "nbformat": 4,
 "nbformat_minor": 4
}
