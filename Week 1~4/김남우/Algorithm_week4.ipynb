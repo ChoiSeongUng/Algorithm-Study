{
 "cells": [
  {
   "cell_type": "code",
   "execution_count": 8,
   "metadata": {},
   "outputs": [
    {
     "data": {
      "text/plain": [
       "'b'"
      ]
     },
     "execution_count": 8,
     "metadata": {},
     "output_type": "execute_result"
    }
   ],
   "source": [
    "#프로그래머스 해시 1번, 완주하지 못한 선수\n",
    "\n",
    "def solution(participant,completion):\n",
    "\n",
    "    participant.sort()\n",
    "    completion.sort()\n",
    "\n",
    "    for p, c in zip(participant, completion) :\n",
    "        if p != c :\n",
    "            return p\n",
    "\n",
    "    return completion[-1]\n",
    "par = ['a','b','b','c'] \n",
    "com = ['a','b','c']\n",
    "solution(par,com)"
   ]
  },
  {
   "cell_type": "code",
   "execution_count": 21,
   "metadata": {},
   "outputs": [
    {
     "data": {
      "text/plain": [
       "'b'"
      ]
     },
     "execution_count": 21,
     "metadata": {},
     "output_type": "execute_result"
    }
   ],
   "source": [
    "#프로그래머스 모범답안\n",
    "import collections\n",
    "\n",
    "\n",
    "def solution(participant, completion):\n",
    "    answer = collections.Counter(participant) - collections.Counter(completion)\n",
    "    return list(answer.keys())[0]\n",
    "par = ['a','b','b','c'] \n",
    "com = ['a','b','c']\n",
    "solution(par,com)\n",
    "\n",
    "\n",
    "#collections.Counter\n",
    "#A Counter is a dict subclass for counting hashable objects. \n",
    "#It is an unordered collection where elements are stored as dictionary keys \n",
    "#and their counts are stored as dictionary values.\n",
    "#Counts are allowed to be any integer value including zero or negative counts. \n",
    "#The Counter class is similar to bags or multisets in other languages.\n",
    "#즉, 컨테이너 내 동일한 값의 자료가 몇 개인지 파악함\n"
   ]
  },
  {
   "cell_type": "code",
   "execution_count": 22,
   "metadata": {},
   "outputs": [
    {
     "name": "stdout",
     "output_type": "stream",
     "text": [
      "Counter({'b': 1})\n"
     ]
    }
   ],
   "source": [
    "print(answer)"
   ]
  },
  {
   "cell_type": "code",
   "execution_count": 23,
   "metadata": {},
   "outputs": [],
   "source": [
    "\n"
   ]
  },
  {
   "cell_type": "code",
   "execution_count": 30,
   "metadata": {},
   "outputs": [],
   "source": [
    "#프로그래머스 2번\n",
    "def solution(phone_book):\n",
    "    phone_book.sort()\n",
    "    for a, b in zip(phone_book, phone_book[1: ]) :\n",
    "        if b.startswith(a):\n",
    "            return False\n",
    "\n",
    "    return True\n",
    "\n",
    "#숫자문자열은 sort를 하면 각 자릿수별로 오름차순으로 정렬"
   ]
  },
  {
   "cell_type": "code",
   "execution_count": 32,
   "metadata": {},
   "outputs": [],
   "source": [
    "#프로그래머스 모범답안\n",
    "\n",
    "\n",
    "def solution(phone_book):\n",
    "    answer = True\n",
    "    hash_map = {}\n",
    "    for phone_number in phone_book:\n",
    "        hash_map[phone_number] = 1\n",
    "    for phone_number in phone_book:\n",
    "        temp = \"\"\n",
    "        for number in phone_number:\n",
    "            temp += number\n",
    "            if temp in hash_map and temp != phone_number:\n",
    "                answer = False\n",
    "    return answer\n",
    "\n",
    "#잘 이해가 가지 않는다. 일어나서 다시보겠습니다."
   ]
  },
  {
   "cell_type": "code",
   "execution_count": 49,
   "metadata": {},
   "outputs": [],
   "source": []
  }
 ],
 "metadata": {
  "kernelspec": {
   "display_name": "Python 3",
   "language": "python",
   "name": "python3"
  },
  "language_info": {
   "codemirror_mode": {
    "name": "ipython",
    "version": 3
   },
   "file_extension": ".py",
   "mimetype": "text/x-python",
   "name": "python",
   "nbconvert_exporter": "python",
   "pygments_lexer": "ipython3",
   "version": "3.7.4"
  }
 },
 "nbformat": 4,
 "nbformat_minor": 2
}
