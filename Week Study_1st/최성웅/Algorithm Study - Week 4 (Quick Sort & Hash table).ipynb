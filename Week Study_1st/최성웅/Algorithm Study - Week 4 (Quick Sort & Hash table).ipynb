{
 "cells": [
  {
   "cell_type": "markdown",
   "metadata": {},
   "source": [
    "# Algorithm Study - Week 4\n",
    "\n",
    "## 1. Quick Sort"
   ]
  },
  {
   "cell_type": "markdown",
   "metadata": {},
   "source": [
    ">설명  \n",
    "\n",
    "- 병합 정렬(merge sort)와 마찬가지로 퀵 정렬도 분할 정복 (Devide and Conquer) 기법과 재귀 알고리즘을 이용한 정렬 알고리즘\n",
    "- 항상 정가운데르르 기준으로 분할을 하는 병합 정렬과 달리, pivot이라 불리는 임의의 기준값으로 분할 진행\n",
    "- 분할된 양쪽 배열들 내에서 다시 pivot 설정 후 분할, 정렬이 완료될 때까지 다음 과정을 반복  \n",
    "</br>\n",
    "\n",
    "> 특징  \n",
    "\n",
    "- 대부분의 프로그래밍 내 내장 정렬 함수들은 퀵 정렬을 기본으로 한다고 함\n",
    "- 병합정렬은 분할 후 병합의 과정에서 연산, 퀵 정렬은 분할의 단계부터 연산을 발생  \n",
    "</br>\n",
    "\n",
    "> 시간복잡도\n",
    "\n",
    "- 쿽 정렬의 성능은 어떻게 pivot 값을 선택 선택하느냐에 크게 달라짐. pivot 값을 기준으로 동일한 개수의 작은 값들과 큰 값들이 분할되면 병합 정렬과 마찬가지로 O(NlogN)의 시간 복잡도를 가지게 됨.\n",
    "- 하지만 pivot 값을 기준으로 분할했을 때 값들이 한 편으로 크게 치우치게 되면 퀵 정렬은 성능은 저하되게 되며, 최악의 경우 한 편으로만 모든 값이 몰리게 되어 O(N^2)의 시간 복잡도를 보이게 됨."
   ]
  },
  {
   "cell_type": "code",
   "execution_count": 32,
   "metadata": {},
   "outputs": [],
   "source": [
    "# 교재의 quicksort(), partition() 내용 참고하여 만든 퀵 정렬 함수\n",
    "# partition() : 임의로 설정된 pivot이 왼편에는 pivot 이하, 오른편에는 pivot 초과의 값으로 구성되게 함.\n",
    "\n",
    "\n",
    "# r = pivot\n",
    "#p = starting point for partitioning\n",
    "\n",
    "def partition(A, p, r):\n",
    "        x = A[r]\n",
    "        i = p-1 \n",
    "        for j in range(p, r):\n",
    "            if A[j] <= x:\n",
    "                i += 1\n",
    "                temp1 = A[i]\n",
    "                A[i] = A[j]\n",
    "                A[j] = temp1\n",
    "            \n",
    "        temp2 = A[i+1]\n",
    "        A[i+1] = A[r]\n",
    "        A[r] = temp2\n",
    "\n",
    "        return i+1\n",
    "    \n",
    "def my_quick1(A, p, r):     \n",
    "    if p < r:\n",
    "        q = partition(A, p, r)\n",
    "        my_quick(A, p, q-1)\n",
    "        my_quick(A, q+1, r)\n",
    "        \n",
    "    return A"
   ]
  },
  {
   "cell_type": "code",
   "execution_count": 33,
   "metadata": {},
   "outputs": [
    {
     "data": {
      "text/plain": [
       "[1, 2, 3, 4, 5, 6, 7, 8]"
      ]
     },
     "execution_count": 33,
     "metadata": {},
     "output_type": "execute_result"
    }
   ],
   "source": [
    "arr1= [2,8,7,1,3,5,6,4]\n",
    "\n",
    "my_quick(arr1, 0, 7)"
   ]
  },
  {
   "cell_type": "code",
   "execution_count": 34,
   "metadata": {},
   "outputs": [],
   "source": [
    "# 중앙값을 pivot으로 설정하여 퀵 정렬 진행한 다른 방식\n",
    "# pivot을 임의값으로 설정해도 실행 가능\n",
    "\n",
    "def my_quick2(A):\n",
    "    \n",
    "    if len(A) <= 1:\n",
    "        return A\n",
    "    \n",
    "    pivot = A[len(A) // 2]\n",
    "    smaller, same, bigger = [], [], []\n",
    "    for i in A:\n",
    "        if i < pivot:\n",
    "            smaller.append(i)\n",
    "        elif i > pivot:\n",
    "            bigger.append(i)\n",
    "        else:\n",
    "            same.append(i)\n",
    "    return quick_sort(smaller) + same + quick_sort(bigger)"
   ]
  },
  {
   "cell_type": "code",
   "execution_count": 35,
   "metadata": {},
   "outputs": [
    {
     "data": {
      "text/plain": [
       "[1, 2, 3, 4, 5, 6, 7, 8]"
      ]
     },
     "execution_count": 35,
     "metadata": {},
     "output_type": "execute_result"
    }
   ],
   "source": [
    "my_quick2(arr1)"
   ]
  },
  {
   "cell_type": "markdown",
   "metadata": {},
   "source": []
  },
  {
   "cell_type": "markdown",
   "metadata": {},
   "source": [
    "> review  \n",
    "- 일반적으로 pivot을 randomized한 방식으로 정하게 되는데 그 과정에서 pivot 기준의 partitioning을 할 때 balanced한 방법을 사용하면 시간 복잡도 상으로 이익일 수 있다는 이론적 설명이 있음. 결국 partition() 부분이 쓸모 없는 부분이 아니라 임의로 설정된 pivot 기준으로 balanced partitioning을 가능하게 하는 함수라고 생각됨."
   ]
  },
  {
   "cell_type": "markdown",
   "metadata": {},
   "source": [
    "## 2. Hash Tables"
   ]
  },
  {
   "cell_type": "markdown",
   "metadata": {},
   "source": [
    "- **Hash Table: 키(Key)에 데이터(Value)를 저장하는 데이터 구조**\n",
    "</br>\n",
    "\n",
    "> 특징  \n",
    "\n",
    "- Key를 통해 바로 데이터를 받아올 수 있으므로, 속도가 획기적으로 빨라짐\n",
    "- 파이썬 딕셔너리(Dictionary) 타입이 해쉬 테이블의 예 (Key를 가지고 바로 데이터(Value)를 꺼냄)\n",
    "- 보통 배열로 미리 Hash Table 사이즈만큼 생성 후에 사용 (공간과 탐색 시간을 맞바꾸는 기법)\n",
    "- 단, 파이썬에서는 해쉬를 별도 구현할 이유가 없음, why? 딕셔너리 타입을 사용하면 됨\n",
    "- 정확한 구조 및 용어는 [https://jinyes-tistory.tistory.com/10] 참고\n",
    "- 해쉬 테이블 구현 코드 [https://www.fun-coding.org/Chapter09-hashtable.html]"
   ]
  },
  {
   "cell_type": "code",
   "execution_count": 37,
   "metadata": {},
   "outputs": [
    {
     "name": "stdout",
     "output_type": "stream",
     "text": [
      "[0, '1111', '3333', '5555', '8888', 0, 0, 0]\n",
      "8888\n",
      "[0, '1111', '3333', '5555', 0, 0, 0, 0]\n"
     ]
    }
   ],
   "source": [
    "# Hash Table\n",
    "class HashTable:\n",
    "    def __init__(self, table_size):\n",
    "        self.size = table_size\n",
    "        self.hash_table = [0 for a in range(self.size)]\n",
    "        \n",
    "    def getKey(self, data):\n",
    "        self.key = ord(data[0])\n",
    "        return self.key\n",
    "    \n",
    "    def hashFunction(self, key):\n",
    "        return key % self.size\n",
    "\n",
    "    def getAddress(self, key):\n",
    "        myKey = self.getKey(key)\n",
    "        hash_address = self.hashFunction(myKey)\n",
    "        return hash_address\n",
    "    \n",
    "    def save(self, key, value):\n",
    "        hash_address = self.getAddress(key)\n",
    "        self.hash_table[hash_address] = value\n",
    "        \n",
    "    def read(self, key):\n",
    "        hash_address = self.getAddress(key)\n",
    "        return self.hash_table[hash_address]\n",
    "    \n",
    "    def delete(self, key):\n",
    "        hash_address = self.getAddress(key)\n",
    "        \n",
    "        if self.hash_table[hash_address] != 0:\n",
    "            self.hash_table[hash_address] = 0\n",
    "            return True\n",
    "        else:\n",
    "            return False\n",
    "\n",
    "\n",
    "#Test Code\n",
    "h_table = HashTable(8)\n",
    "h_table.save('a', '1111')\n",
    "h_table.save('b', '3333')\n",
    "h_table.save('c', '5555')\n",
    "h_table.save('d', '8888')\n",
    "print(h_table.hash_table)\n",
    "print(h_table.read('d'))\n",
    "\n",
    "h_table.delete('d')\n",
    "\n",
    "print(h_table.hash_table)"
   ]
  },
  {
   "cell_type": "markdown",
   "metadata": {},
   "source": [
    "> **문제점: 해시 충돌(Hash Collision)**\n",
    "- 해시 테이블에는 치명적인 문제점이 있다. 인풋 데이터를 해시 값으로 바꿔주는 과정에서 두 데이터가 다른 문자열임에도 불구하고 같은 숫자로 변환되는 경우가 있다. 이 문제를 해시 충돌이라고 한다.\n",
    "- 해시 충돌을 해결하는 대표적인 방법에는 오픈 해싱과 클로즈 해싱이 있다."
   ]
  },
  {
   "cell_type": "markdown",
   "metadata": {},
   "source": [
    "- **오픈 해싱:** 해시 테이블의 충돌 문제를 해결하는 대표적인 방법중 하나로 체이닝(Separate Chaining) 기법이라고도 한다. 만약 해시 값이 중복되는 경우, 먼저 저장된 데이터에 링크드 리스트를 이용하여 중복 해시 데이터를 연결한다.\n",
    "\n",
    "파이썬에는 링크드 리스트 대신 슬롯을 이중 리스트 구조로 활용해서 간단하게 구현할 수 있다."
   ]
  },
  {
   "cell_type": "code",
   "execution_count": 36,
   "metadata": {},
   "outputs": [
    {
     "name": "stdout",
     "output_type": "stream",
     "text": [
      "97\n",
      "97\n",
      "[0, [['aa', '1111'], ['ad', '2222']], 0, 0, 0, 0, 0, 0]\n",
      "[0, [['ad', '2222']], 0, 0, 0, 0, 0, 0]\n",
      "False\n",
      "[0, 0, 0, 0, 0, 0, 0, 0]\n"
     ]
    }
   ],
   "source": [
    "# open hashing\n",
    "\n",
    "class OpenHash:\n",
    "    def __init__(self, table_size):\n",
    "        self.size = table_size\n",
    "        self.hash_table = [0 for a in range(self.size)]\n",
    "        \n",
    "    def getKey(self, data):\n",
    "        self.key = ord(data[0])\n",
    "        return self.key\n",
    "    \n",
    "    def hashFunction(self, key):\n",
    "        return key % self.size\n",
    "\n",
    "    def getAddress(self, key):\n",
    "        myKey = self.getKey(key)\n",
    "        hash_address = self.hashFunction(myKey)\n",
    "        return hash_address\n",
    "    \n",
    "    def save(self, key, value):\n",
    "        hash_address = self.getAddress(key)\n",
    "        \n",
    "        if self.hash_table[hash_address] != 0:\n",
    "            for a in range(len(self.hash_table[hash_address])):\n",
    "                if self.hash_table[hash_address][a][0] == key:\n",
    "                    self.hash_table[hash_address][a][1] = value\n",
    "                    return\n",
    "            self.hash_table[hash_address].append([key, value])\n",
    "        else:\n",
    "            self.hash_table[hash_address] = [[key, value]]\n",
    "            \n",
    "    def read(self, key):\n",
    "        hash_address = self.getAddress(key)\n",
    "        \n",
    "        if self.hash_table[hash_address] != 0:\n",
    "            for a in range(len(self.hash_table[hash_address])):\n",
    "                if self.hash_table[hash_address][a][0] == key:\n",
    "                    return self.hash_table[hash_address][a][0]\n",
    "            return False\n",
    "        else:\n",
    "            return False\n",
    "    \n",
    "    def delete(self, key):\n",
    "        hash_address = self.getAddress(key)\n",
    "        \n",
    "        if self.hash_table[hash_address] != 0:\n",
    "            for a in range(len(self.hash_table[hash_address])):\n",
    "                if self.hash_table[hash_address][a][0] == key:\n",
    "                    if len(self.hash_table[hash_address]) == 1:\n",
    "                        self.hash_table[hash_address] = 0\n",
    "                    else:\n",
    "                        del self.hash_table[hash_address][a]\n",
    "                    return\n",
    "            return False\n",
    "        else:\n",
    "            return False\n",
    "            \n",
    "            \n",
    "#Test Code\n",
    "h_table = OpenHash(8)\n",
    "\n",
    "h_table.save('aa', '1111')\n",
    "h_table.read('aa')\n",
    "\n",
    "data1 = 'aa'\n",
    "data2 = 'ad'\n",
    "\n",
    "print(ord(data1[0]))\n",
    "print(ord(data2[0]))\n",
    "\n",
    "h_table.save('ad', '2222')\n",
    "print(h_table.hash_table)\n",
    "\n",
    "h_table.read('aa')\n",
    "h_table.read('ad')\n",
    "\n",
    "h_table.delete('aa')\n",
    "print(h_table.hash_table)\n",
    "print(h_table.delete('Data'))\n",
    "h_table.delete('ad')\n",
    "print(h_table.hash_table)"
   ]
  },
  {
   "cell_type": "markdown",
   "metadata": {},
   "source": [
    "- **클로즈 해싱**: 은 해시 테이블의 충돌 문제를 해결하는 방법 중 하나로 Linear Probing, Open Addressing 이라고 부르기도 한다. 해시 중복이 발생하면 해당 해시 값부터 순차적으로 빈 공간을 찾기 시작한다. 가장 처음 찾는 빈 공간에 키와 밸류를 저장한다. 저장 효율을 높이는 방법이다."
   ]
  },
  {
   "cell_type": "code",
   "execution_count": 38,
   "metadata": {},
   "outputs": [
    {
     "name": "stdout",
     "output_type": "stream",
     "text": [
      "97 97\n",
      "[0, ['aa', '3333'], ['ad', '9999'], 0, 0, 0, 0, 0]\n",
      "[0, 0, ['ad', '9999'], 0, 0, 0, 0, 0]\n",
      "[0, 0, 0, 0, 0, 0, 0, 0]\n"
     ]
    }
   ],
   "source": [
    "#close hashing\n",
    "class CloseHash:\n",
    "    def __init__(self, table_size):\n",
    "        self.size = table_size\n",
    "        self.hash_table = [0 for a in range(self.size)]\n",
    "        \n",
    "    def getKey(self, data):\n",
    "        self.key = ord(data[0])\n",
    "        return self.key\n",
    "    \n",
    "    def hashFunction(self, key):\n",
    "        return key % self.size\n",
    "\n",
    "    def getAddress(self, key):\n",
    "        myKey = self.getKey(key)\n",
    "        hash_address = self.hashFunction(myKey)\n",
    "        return hash_address\n",
    "    \n",
    "    def save(self, key, value):\n",
    "        hash_address = self.getAddress(key)\n",
    "        \n",
    "        if self.hash_table[hash_address] != 0:\n",
    "            for a in range(hash_address, len(self.hash_table)):\n",
    "                if self.hash_table[a] == 0:\n",
    "                    self.hash_table[a] = [key, value]\n",
    "                    return\n",
    "                elif self.hash_table[a][1] == key:\n",
    "                    self.hash_table[a] = value\n",
    "                    return\n",
    "            return None\n",
    "        else:\n",
    "            self.hash_table[hash_address] = [key, value]\n",
    "            \n",
    "    def read(self, key):\n",
    "        hash_address = self.getAddress(key)\n",
    "        \n",
    "        for a in range(hash_address, len(self.hash_table)):\n",
    "            if self.hash_table[a][0] == key:\n",
    "                return self.hash_table[a][1]\n",
    "        return None\n",
    "    \n",
    "    def delete(self, key):\n",
    "        hash_address = self.getAddress(key)\n",
    "        \n",
    "        for a in range(hash_address, len(self.hash_table)):\n",
    "            if self.hash_table[a] == 0:\n",
    "                continue\n",
    "            if self.hash_table[a][0] == key:\n",
    "                self.hash_table[a] = 0\n",
    "                return\n",
    "        return False\n",
    "        \n",
    "        \n",
    "#Test Code\n",
    "h_table = CloseHash(8)\n",
    "\n",
    "data1 = 'aa'\n",
    "data2 = 'ad'\n",
    "print(ord(data1[0]), ord(data2[0]))\n",
    "\n",
    "h_table.save('aa', '3333')\n",
    "h_table.save('ad', '9999')\n",
    "print(h_table.hash_table)\n",
    "\n",
    "h_table.read('ad')\n",
    "\n",
    "h_table.delete('aa')\n",
    "print(h_table.hash_table)\n",
    "\n",
    "h_table.delete('ad')\n",
    "print(h_table.hash_table)"
   ]
  },
  {
   "cell_type": "markdown",
   "metadata": {},
   "source": [
    "---"
   ]
  },
  {
   "cell_type": "markdown",
   "metadata": {},
   "source": [
    "- 실습"
   ]
  },
  {
   "cell_type": "code",
   "execution_count": 39,
   "metadata": {},
   "outputs": [
    {
     "data": {
      "text/plain": [
       "[0, 0, 0, 0, 0, 0, 0, 0, 0, 0]"
      ]
     },
     "execution_count": 39,
     "metadata": {},
     "output_type": "execute_result"
    }
   ],
   "source": [
    "hash_table = list([0 for i in range(10)])\n",
    "hash_table"
   ]
  },
  {
   "cell_type": "code",
   "execution_count": 40,
   "metadata": {},
   "outputs": [
    {
     "name": "stdout",
     "output_type": "stream",
     "text": [
      "65 0\n",
      "68 3\n",
      "84 4\n"
     ]
    }
   ],
   "source": [
    "def hash_func(key):\n",
    "    return key % 5\n",
    "\n",
    "data1 = 'Andy'\n",
    "data2 = 'Dave'\n",
    "data3 = 'Trump'\n",
    "\n",
    "# ord(): 문자의 ASCII(아스키코드)값을 리턴\n",
    "print (ord(data1[0]), ord(data1[0]) % 5)\n",
    "print (ord(data2[0]), ord(data2[0]) % 5)\n",
    "print (ord(data3[0]), ord(data3[0]) % 5)"
   ]
  },
  {
   "cell_type": "code",
   "execution_count": 42,
   "metadata": {},
   "outputs": [],
   "source": [
    "def storage_data(data, value): #data에 할당되는 value 저장\n",
    "    key = ord(data[0])\n",
    "    hash_address = hash_func(key)\n",
    "    hash_table[hash_address] = value"
   ]
  },
  {
   "cell_type": "code",
   "execution_count": 43,
   "metadata": {},
   "outputs": [],
   "source": [
    "def get_data(data): # data에 할당된 value 리턴\n",
    "    key = ord(data[0])\n",
    "    hash_address = hash_func(key)\n",
    "    return hash_table[hash_address]"
   ]
  },
  {
   "cell_type": "code",
   "execution_count": 44,
   "metadata": {},
   "outputs": [
    {
     "name": "stdout",
     "output_type": "stream",
     "text": [
      "01032130231\n"
     ]
    }
   ],
   "source": [
    "storage_data('Andy', '01032130231')\n",
    "storage_data('Dave', '01231232222')\n",
    "storage_data('Trump', '0332323222')\n",
    "\n",
    "print (get_data('Andy'))"
   ]
  },
  {
   "cell_type": "code",
   "execution_count": 46,
   "metadata": {},
   "outputs": [
    {
     "data": {
      "text/plain": [
       "['01032130231', 0, 0, '01231232222', '0332323222', 0, 0, 0, 0, 0]"
      ]
     },
     "execution_count": 46,
     "metadata": {},
     "output_type": "execute_result"
    }
   ],
   "source": [
    "hash_table"
   ]
  },
  {
   "cell_type": "markdown",
   "metadata": {},
   "source": [
    "- 정리 코드"
   ]
  },
  {
   "cell_type": "code",
   "execution_count": 47,
   "metadata": {},
   "outputs": [],
   "source": [
    "hash_table = list([0 for i in range(8)]) # 1. 해쉬 테이블을 위한 데이터 저장 공간 생성\n",
    "\n",
    "def get_key(data): # 2. 내장함수 hash()를 이용하여 data마다 할당되는 key 생성\n",
    "    return hash(data)\n",
    "\n",
    "def hash_function(key): # 3. key를 다른 숫자로 변형\n",
    "    return key % 8\n",
    "\n",
    "def save_data_hash_table(data, value): # 4. key를 주소로 하여 data마다 짝 지어지는 value 저장\n",
    "    hash_address = hash_function(get_key(data))\n",
    "    hash_table[hash_address] = value\n",
    "    \n",
    "def get_data_hash_table(data): # 5. key 주소를 이용하여 data에 맞는 value 리턴\n",
    "    hash_address = hash_function(get_key(data))    \n",
    "    return hash_table[hash_address]"
   ]
  },
  {
   "cell_type": "markdown",
   "metadata": {},
   "source": [
    "## 프로그래머스 실습"
   ]
  },
  {
   "cell_type": "markdown",
   "metadata": {},
   "source": [
    "#### 완주하지 못한 선수"
   ]
  },
  {
   "cell_type": "markdown",
   "metadata": {},
   "source": [
    "- 1st trial"
   ]
  },
  {
   "cell_type": "code",
   "execution_count": 81,
   "metadata": {},
   "outputs": [],
   "source": [
    "def solution(participants, completion):\n",
    "    answer = ''\n",
    "    \n",
    "    for i in completion:\n",
    "        participant.remove(i)\n",
    "\n",
    "    answer = participant[0]   \n",
    "    return answer"
   ]
  },
  {
   "cell_type": "code",
   "execution_count": 128,
   "metadata": {},
   "outputs": [],
   "source": [
    "participant = ['mislav', 'stanko', 'mislav', 'ana']\n",
    "completion = ['stanko', 'ana', 'mislav']"
   ]
  },
  {
   "cell_type": "code",
   "execution_count": 123,
   "metadata": {},
   "outputs": [
    {
     "data": {
      "text/plain": [
       "'mislav'"
      ]
     },
     "execution_count": 123,
     "metadata": {},
     "output_type": "execute_result"
    }
   ],
   "source": [
    "solution(participant, completion )"
   ]
  },
  {
   "cell_type": "markdown",
   "metadata": {},
   "source": [
    "- 2nd trial"
   ]
  },
  {
   "cell_type": "code",
   "execution_count": 133,
   "metadata": {},
   "outputs": [],
   "source": [
    "def solution(participant, completion):\n",
    "    hash_table = [0 for i in range(100000)]\n",
    "\n",
    "    for i in participant :\n",
    "        key1 = hash(i) % 100000\n",
    "        hash_table[key1] += 1\n",
    "    \n",
    "    for j in completion:\n",
    "        key2 = hash(j) % 100000\n",
    "        hash_table[key2] -= 1\n",
    "\n",
    "    for i in participant:\n",
    "        if hash(i) % 100000 == hash_table.index(1):\n",
    "            answer = i\n",
    "            \n",
    "    return answer"
   ]
  },
  {
   "cell_type": "code",
   "execution_count": 134,
   "metadata": {},
   "outputs": [
    {
     "data": {
      "text/plain": [
       "'mislav'"
      ]
     },
     "execution_count": 134,
     "metadata": {},
     "output_type": "execute_result"
    }
   ],
   "source": [
    "participant = ['mislav', 'stanko', 'mislav', 'ana']\n",
    "completion = ['stanko', 'ana', 'mislav']\n",
    "\n",
    "solution(participant, completion)"
   ]
  },
  {
   "cell_type": "markdown",
   "metadata": {},
   "source": [
    "- 3rd trial"
   ]
  },
  {
   "cell_type": "code",
   "execution_count": 144,
   "metadata": {},
   "outputs": [],
   "source": [
    "def solution(participant, completion):\n",
    "    \n",
    "    p = sorted(participant)\n",
    "    c = sorted(completion)\n",
    "\n",
    "    for i in range(len(p)-1):\n",
    "        if p[i] != c[i]:\n",
    "            answer = p[i]\n",
    "            break\n",
    "        else:\n",
    "            answer = p[-1]\n",
    "    return answer"
   ]
  },
  {
   "cell_type": "code",
   "execution_count": 145,
   "metadata": {},
   "outputs": [
    {
     "data": {
      "text/plain": [
       "'mislav'"
      ]
     },
     "execution_count": 145,
     "metadata": {},
     "output_type": "execute_result"
    }
   ],
   "source": [
    "participant = ['mislav', 'stanko', 'mislav', 'ana']\n",
    "completion = ['stanko', 'ana', 'mislav']\n",
    "\n",
    "solution(participant, completion)"
   ]
  },
  {
   "cell_type": "markdown",
   "metadata": {},
   "source": [
    "- other's solution"
   ]
  },
  {
   "cell_type": "code",
   "execution_count": 150,
   "metadata": {},
   "outputs": [],
   "source": [
    "def solution(participant, completion):\n",
    "    answer = ''\n",
    "    temp = 0 # awesome...\n",
    "    dic = {} # Hmm...\n",
    "    for part in participant:\n",
    "        dic[hash(part)] = part\n",
    "        temp += int(hash(part))\n",
    "    for com in completion:\n",
    "        temp -= hash(com)\n",
    "    answer = dic[temp]\n",
    "\n",
    "    return answer"
   ]
  },
  {
   "cell_type": "code",
   "execution_count": 151,
   "metadata": {},
   "outputs": [
    {
     "data": {
      "text/plain": [
       "'mislav'"
      ]
     },
     "execution_count": 151,
     "metadata": {},
     "output_type": "execute_result"
    }
   ],
   "source": [
    "participant = ['mislav', 'stanko', 'mislav', 'ana']\n",
    "completion = ['stanko', 'ana', 'mislav']\n",
    "\n",
    "solution(participant, completion)"
   ]
  },
  {
   "cell_type": "code",
   "execution_count": 152,
   "metadata": {},
   "outputs": [],
   "source": [
    "import collections\n",
    "\n",
    "\n",
    "def solution(participant, completion):\n",
    "    answer = collections.Counter(participant) - collections.Counter(completion)\n",
    "    return list(answer.keys())[0]"
   ]
  },
  {
   "cell_type": "code",
   "execution_count": 153,
   "metadata": {},
   "outputs": [
    {
     "data": {
      "text/plain": [
       "'mislav'"
      ]
     },
     "execution_count": 153,
     "metadata": {},
     "output_type": "execute_result"
    }
   ],
   "source": [
    "participant = ['mislav', 'stanko', 'mislav', 'ana']\n",
    "completion = ['stanko', 'ana', 'mislav']\n",
    "\n",
    "solution(participant, completion)"
   ]
  },
  {
   "cell_type": "code",
   "execution_count": 156,
   "metadata": {},
   "outputs": [
    {
     "data": {
      "text/plain": [
       "Counter({'mislav': 2, 'stanko': 1, 'ana': 1})"
      ]
     },
     "execution_count": 156,
     "metadata": {},
     "output_type": "execute_result"
    }
   ],
   "source": [
    "collections.Counter(participant)"
   ]
  },
  {
   "cell_type": "code",
   "execution_count": 157,
   "metadata": {},
   "outputs": [
    {
     "data": {
      "text/plain": [
       "Counter({'mislav': 1})"
      ]
     },
     "execution_count": 157,
     "metadata": {},
     "output_type": "execute_result"
    }
   ],
   "source": [
    "collections.Counter(participant) - collections.Counter(completion)"
   ]
  },
  {
   "cell_type": "markdown",
   "metadata": {},
   "source": [
    "> collections 모듈은 편리한 기능이 많다고 생각됨!"
   ]
  },
  {
   "cell_type": "markdown",
   "metadata": {},
   "source": [
    "#### 전화번호부"
   ]
  },
  {
   "cell_type": "markdown",
   "metadata": {},
   "source": [
    "- 1st trial"
   ]
  },
  {
   "cell_type": "code",
   "execution_count": 179,
   "metadata": {},
   "outputs": [],
   "source": [
    "def solution(phone_book):\n",
    "    answer = True\n",
    "    p = list(map(str, sorted(phone_book)))\n",
    "    \n",
    "    for i in range(len(p)-1):\n",
    "        for j in range(i+1, len(p)):\n",
    "            if p[i] == p[j][:len(p[i])]:\n",
    "                answer = False\n",
    "                return answer\n",
    "    return answer"
   ]
  },
  {
   "cell_type": "code",
   "execution_count": 182,
   "metadata": {},
   "outputs": [
    {
     "name": "stdout",
     "output_type": "stream",
     "text": [
      "False True False\n"
     ]
    }
   ],
   "source": [
    "phone_book1 = [119, 97674223, 1195524421]\n",
    "phone_book2 = [123,456,789]\n",
    "phone_book3 = [12,123,1235,567,88]\n",
    "\n",
    "print(solution(phone_book1), solution(phone_book2), solution(phone_book3))"
   ]
  },
  {
   "cell_type": "markdown",
   "metadata": {},
   "source": [
    "- other's solution"
   ]
  },
  {
   "cell_type": "code",
   "execution_count": null,
   "metadata": {},
   "outputs": [],
   "source": [
    "def solution(phoneBook):\n",
    "    phoneBook = sorted(phoneBook)\n",
    "\n",
    "    for p1, p2 in zip(phoneBook, phoneBook[1:]):\n",
    "        if p2.startswith(p1):\n",
    "            return False\n",
    "    return True"
   ]
  },
  {
   "cell_type": "code",
   "execution_count": null,
   "metadata": {},
   "outputs": [],
   "source": [
    "def solution(phone_book): \n",
    "    for i in range(len(phone_book)): \n",
    "        pivot = phone_book[i] \n",
    "        for j in range(i+1, len(phone_book)): \n",
    "            strlen = min(len(pivot), len(phone_book[j])) \n",
    "        if pivot[:strlen] == phone_book[j][:strlen]: \n",
    "                return False \n",
    "            \n",
    "    return True"
   ]
  },
  {
   "cell_type": "markdown",
   "metadata": {},
   "source": [
    "> 위 답안처럼 startswith의 사용을 생각하지 못한 것이 아쉬움. 하지만 sorted()의 사용이 시간 복잡도 관점에서 좋지 않기 때문에 아래의 방법을 꼭 숙지하는 것이 좋다고 판단됨."
   ]
  },
  {
   "cell_type": "markdown",
   "metadata": {},
   "source": [
    "#### 위장"
   ]
  },
  {
   "cell_type": "markdown",
   "metadata": {},
   "source": [
    "- 1st trial"
   ]
  },
  {
   "cell_type": "code",
   "execution_count": 245,
   "metadata": {},
   "outputs": [],
   "source": [
    "def solution(clothes):\n",
    "    answer = 0\n",
    "    dic = {}\n",
    "\n",
    "    for i in clothes:\n",
    "        if i[1] not in dic:\n",
    "            dic[i[1]] = 1\n",
    "        else:\n",
    "            dic[i[1]] += 1\n",
    "    \n",
    "    case = 1\n",
    "    for j in dic.values():\n",
    "        case *= j+1\n",
    "    \n",
    "    answer = case-1   \n",
    "    return answer"
   ]
  },
  {
   "cell_type": "code",
   "execution_count": 246,
   "metadata": {},
   "outputs": [
    {
     "name": "stdout",
     "output_type": "stream",
     "text": [
      "5\n",
      "3\n"
     ]
    }
   ],
   "source": [
    "clothes1 = [['yellow_hat', 'headgear'], ['blue_sunglasses', 'eyewear'], ['green_turban', 'headgear']]\n",
    "clothes2 = [['crow_mask', 'face'], ['blue_sunglasses', 'face'], ['smoky_makeup', 'face']]\n",
    "\n",
    "print(solution(clothes1))\n",
    "print(solution(clothes2))"
   ]
  },
  {
   "cell_type": "markdown",
   "metadata": {},
   "source": [
    "> ex. (a + 1)(b + 1)(c + 1) - 1 = (a + b + c) + (ab + bc + ca) + abc"
   ]
  },
  {
   "cell_type": "markdown",
   "metadata": {},
   "source": [
    "- other's solution"
   ]
  },
  {
   "cell_type": "code",
   "execution_count": 247,
   "metadata": {},
   "outputs": [],
   "source": [
    "def solution(clothes):\n",
    "    from collections import Counter\n",
    "    from functools import reduce\n",
    "    cnt = Counter([kind for name, kind in clothes])\n",
    "    answer = reduce(lambda x, y: x*(y+1), cnt.values(), 1) - 1\n",
    "    return answer"
   ]
  },
  {
   "cell_type": "code",
   "execution_count": 248,
   "metadata": {},
   "outputs": [
    {
     "name": "stdout",
     "output_type": "stream",
     "text": [
      "5\n",
      "3\n"
     ]
    }
   ],
   "source": [
    "clothes1 = [['yellow_hat', 'headgear'], ['blue_sunglasses', 'eyewear'], ['green_turban', 'headgear']]\n",
    "clothes2 = [['crow_mask', 'face'], ['blue_sunglasses', 'face'], ['smoky_makeup', 'face']]\n",
    "\n",
    "print(solution(clothes1))\n",
    "print(solution(clothes2))"
   ]
  },
  {
   "cell_type": "markdown",
   "metadata": {},
   "source": [
    "> 누적 합을 위해 reduce() 함수 사용"
   ]
  },
  {
   "cell_type": "code",
   "execution_count": 249,
   "metadata": {},
   "outputs": [],
   "source": [
    "import collections\n",
    "from functools import reduce\n",
    "\n",
    "def solution(c):\n",
    "    return reduce(lambda x,y:x*y,[a+1 for a in collections.Counter([x[1] for x in c]).values()])-1"
   ]
  },
  {
   "cell_type": "code",
   "execution_count": 250,
   "metadata": {},
   "outputs": [
    {
     "name": "stdout",
     "output_type": "stream",
     "text": [
      "5\n",
      "3\n"
     ]
    }
   ],
   "source": [
    "clothes1 = [['yellow_hat', 'headgear'], ['blue_sunglasses', 'eyewear'], ['green_turban', 'headgear']]\n",
    "clothes2 = [['crow_mask', 'face'], ['blue_sunglasses', 'face'], ['smoky_makeup', 'face']]\n",
    "\n",
    "print(solution(clothes1))\n",
    "print(solution(clothes2))"
   ]
  }
 ],
 "metadata": {
  "kernelspec": {
   "display_name": "Python 3",
   "language": "python",
   "name": "python3"
  },
  "language_info": {
   "codemirror_mode": {
    "name": "ipython",
    "version": 3
   },
   "file_extension": ".py",
   "mimetype": "text/x-python",
   "name": "python",
   "nbconvert_exporter": "python",
   "pygments_lexer": "ipython3",
   "version": "3.7.6"
  }
 },
 "nbformat": 4,
 "nbformat_minor": 4
}
