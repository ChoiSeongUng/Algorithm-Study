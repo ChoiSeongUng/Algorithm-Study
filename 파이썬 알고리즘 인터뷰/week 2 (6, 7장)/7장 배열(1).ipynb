{
 "cells": [
  {
   "cell_type": "code",
   "execution_count": 47,
   "metadata": {},
   "outputs": [
    {
     "name": "stdout",
     "output_type": "stream",
     "text": [
      "Requirement already satisfied: IPython in c:\\users\\owner\\anaconda3\\lib\\site-packages (7.19.0)\n",
      "Requirement already satisfied: colorama; sys_platform == \"win32\" in c:\\users\\owner\\anaconda3\\lib\\site-packages (from IPython) (0.4.4)\n",
      "Requirement already satisfied: decorator in c:\\users\\owner\\anaconda3\\lib\\site-packages (from IPython) (4.4.2)\n",
      "Requirement already satisfied: prompt-toolkit!=3.0.0,!=3.0.1,<3.1.0,>=2.0.0 in c:\\users\\owner\\anaconda3\\lib\\site-packages (from IPython) (3.0.8)\n",
      "Requirement already satisfied: setuptools>=18.5 in c:\\users\\owner\\anaconda3\\lib\\site-packages (from IPython) (50.3.1.post20201107)\n",
      "Requirement already satisfied: backcall in c:\\users\\owner\\anaconda3\\lib\\site-packages (from IPython) (0.2.0)\n",
      "Requirement already satisfied: traitlets>=4.2 in c:\\users\\owner\\anaconda3\\lib\\site-packages (from IPython) (5.0.5)\n",
      "Requirement already satisfied: pygments in c:\\users\\owner\\anaconda3\\lib\\site-packages (from IPython) (2.7.2)\n",
      "Requirement already satisfied: jedi>=0.10 in c:\\users\\owner\\anaconda3\\lib\\site-packages (from IPython) (0.17.1)\n",
      "Requirement already satisfied: pickleshare in c:\\users\\owner\\anaconda3\\lib\\site-packages (from IPython) (0.7.5)\n",
      "Requirement already satisfied: wcwidth in c:\\users\\owner\\anaconda3\\lib\\site-packages (from prompt-toolkit!=3.0.0,!=3.0.1,<3.1.0,>=2.0.0->IPython) (0.2.5)\n",
      "Requirement already satisfied: ipython-genutils in c:\\users\\owner\\anaconda3\\lib\\site-packages (from traitlets>=4.2->IPython) (0.2.0)\n",
      "Requirement already satisfied: parso<0.8.0,>=0.7.0 in c:\\users\\owner\\anaconda3\\lib\\site-packages (from jedi>=0.10->IPython) (0.7.0)\n"
     ]
    }
   ],
   "source": [
    "!pip install IPython \n",
    "from IPython.display import Image"
   ]
  },
  {
   "cell_type": "markdown",
   "metadata": {},
   "source": [
    "# 7장 배열\n",
    "\n",
    "배열은 값 또는 변수 엘리먼트의 집합으로 구성된 구조로, 하나 이상의 인덱스 또는 키로 식별된다.\n",
    "자료구조는 메모리 공간 기반의 연속방식과 포인터 기반의 연결방식으로 나뉜다. 배열은 이 중에서 연속방식의 가장 기본이 되는 자료형.\n",
    "연결 방식의 가장 기본이 되는 자료형은 '연결 리스트'.\n",
    "배열이란 고정된 크기만큼의 연속된 메모리 할당.\n",
    "이러한 특성에 기반해\n",
    "배열은 어느 위치에나 O(1)로 조회할 수 있다. 예를 들어 4번째에 위치한 값에 접근하고 싶다면 int기준으로(int는 한 값당 4바이트로 사용) \n",
    "0*00 기준으로 (4-1)*4=12 만큼 떨어진 주소의 값을 읽어올 수 있는 것이다.\n",
    "ex\n",
    "![nn](배열.jpg)\n",
    "\n",
    "#### 동적 배열\n",
    "\n",
    "실제 데이터는 전체 크기를 가늠하기 힘들어 배열처럼 미리 크기를 지정한다면 문제가 생길 수 있다. 따라서 이를 해결하기 위해 크기를 미리 지정하지 않고 자동으로 조정할 수 있도록 나온 것이 동적 배열.(python의 list)\n",
    "동적 배열의 원리는 초깃값을 작게 잡아 배열을 생성하고, 데이터가 추가되면서 꽉 채워지면, 늘려주고 모두 복사하는 식이다. 이를 보통 2배씩 늘려주며 이러한 작업이 더블링이라 불린다.\n"
   ]
  },
  {
   "cell_type": "markdown",
   "metadata": {},
   "source": [
    "## 문제7.  두 수의 합.\n",
    "### 덧셈하여 타겟을 만들 수 있는 배열의 두 숫자 인덱스를 리턴하라.\n"
   ]
  },
  {
   "cell_type": "markdown",
   "metadata": {},
   "source": [
    "### 풀이1. 브루트 포스로 계산\n",
    "\n",
    "브루트 포스: 배열을 2번 반복하면서 모든 조합을 더해서 일일히 확인해보는 무차별 대입 방식.\n",
    "ex. 크기가 4일 때 01, 02, 03, 12, 13, 23 인덱스를 더해주는 것.\n",
    "\n",
    "시간복잡도는 O(n^2)\n",
    "![nn](브루트1.jpg)"
   ]
  },
  {
   "cell_type": "code",
   "execution_count": 1,
   "metadata": {},
   "outputs": [
    {
     "data": {
      "text/plain": [
       "[0, 1]"
      ]
     },
     "execution_count": 1,
     "metadata": {},
     "output_type": "execute_result"
    }
   ],
   "source": [
    "nums = [2,7,11,15]\n",
    "target = 9\n",
    "\n",
    "def twosum(nums, target):\n",
    "    for i in range(len(nums)):\n",
    "        for j in range(i+1, len(nums)):\n",
    "            if nums[i] + nums[j] == target:\n",
    "                return [i,j]\n",
    "\n",
    "twosum(nums,target)"
   ]
  },
  {
   "cell_type": "markdown",
   "metadata": {},
   "source": [
    "### 풀이2. in을 이용한 탐색\n",
    "\n",
    "모든 조합을 비교하지 않고 타겟에서 첫 번째 값을 뺀 target - n 이 존재하는지 탐색.\n",
    "\n",
    "시간복잡도는 O(n^2)로 위의 방법과 같지만 생략된 상수항 때문에 위의 방법보다 더 빠르다."
   ]
  },
  {
   "cell_type": "code",
   "execution_count": 2,
   "metadata": {},
   "outputs": [
    {
     "data": {
      "text/plain": [
       "(0, 1)"
      ]
     },
     "execution_count": 2,
     "metadata": {},
     "output_type": "execute_result"
    }
   ],
   "source": [
    "def twosumin(nums,target):\n",
    "    for i, n in enumerate(nums): #리스트에 인덱스 번호 부여 [(0, 2), (1, 7), (2, 11), (3, 15)] 이런식\n",
    "        complement = target - n\n",
    "        \n",
    "        if complement in nums[i+1:]: #나머지 리스트에 complement값이 있는지 탐색\n",
    "            return nums.index(n), nums[i+1:].index(complement) + (i+1) #인덱스값으로 반환\n",
    "        \n",
    "twosumin(nums, target)"
   ]
  },
  {
   "cell_type": "markdown",
   "metadata": {},
   "source": [
    "### 풀이3. 첫 번째 수를 뺀 결과 키 조회\n",
    "\n",
    "시간복잡도는 O(n). 딕셔너리의 조회가 O(1)로 가능하기때문에 줄어듦."
   ]
  },
  {
   "cell_type": "code",
   "execution_count": 7,
   "metadata": {},
   "outputs": [
    {
     "data": {
      "text/plain": [
       "(0, 1)"
      ]
     },
     "execution_count": 7,
     "metadata": {},
     "output_type": "execute_result"
    }
   ],
   "source": [
    "def twosum3(nums, target):\n",
    "    #키와 값을 바꿔서 딕셔너리로 저장\n",
    "    nums_map ={}\n",
    "    for i,num in enumerate(nums): # {2: 0, 7: 1, 11: 2, 15: 3} 이런식으로 반환됨\n",
    "        nums_map[num] = i\n",
    "     \n",
    "    #타겟에서 첫 번째 수를 뺀 결과를 키로 조회   \n",
    "    for i, num in enumerate(nums): # 리스트에 인덱스 번호 부여 [(0, 2), (1, 7), (2, 11), (3, 15)] 이런식\n",
    "        if target - num in nums_map and i != nums_map[target - num]:\n",
    "            return nums.index(num), nums_map[target-num]\n",
    "\n",
    "twosum3(nums, target)\n",
    "\n"
   ]
  },
  {
   "cell_type": "markdown",
   "metadata": {},
   "source": [
    "### 풀이4. 조회 구조 개선\n",
    "딕셔너리 저장과 조회를 하나의 for로 합쳐서 처리"
   ]
  },
  {
   "cell_type": "code",
   "execution_count": 11,
   "metadata": {},
   "outputs": [
    {
     "data": {
      "text/plain": [
       "[0, 1]"
      ]
     },
     "execution_count": 11,
     "metadata": {},
     "output_type": "execute_result"
    }
   ],
   "source": [
    "def twosum4(nums,target):\n",
    "    nums_map = {}\n",
    "    for i, num in enumerate(nums):\n",
    "        if target - num in nums_map:\n",
    "            return [nums_map[target-num],i]\n",
    "        nums_map[num] = i\n",
    "        \n",
    "twosum4(nums,target)"
   ]
  },
  {
   "cell_type": "markdown",
   "metadata": {},
   "source": [
    "### 풀이5. 투 포인터 이용\n",
    "\n",
    "투 포인터: 왼쪽 포인터와 오른쪽 포인터의 합이 타겟보다 크다면 오른쪽 포인터를 왼쪽으로, 작다면 왼쪽 포인터를 오른쪽으로 옮기면서 값을 조정하는 방식.\n",
    "![nn](투포인터.jpg)"
   ]
  },
  {
   "cell_type": "code",
   "execution_count": 16,
   "metadata": {},
   "outputs": [
    {
     "data": {
      "text/plain": [
       "(0, 1)"
      ]
     },
     "execution_count": 16,
     "metadata": {},
     "output_type": "execute_result"
    }
   ],
   "source": [
    "def twosumtp(nums, target):\n",
    "    left = 0\n",
    "    right = len(nums) - 1\n",
    "    while not left == right:\n",
    "        #합이 타겟보다 크면 오른쪽 포인터를 왼쪽으로\n",
    "        if nums[left] + nums[right] < target:\n",
    "            left += 1\n",
    "        #합이 타겟보다 작으면 왼쪽 포인터를 오른쪽으로\n",
    "        elif nums[left] + nums[right] > target:\n",
    "            right -= 1\n",
    "        else:\n",
    "            return left,right\n",
    "    \n",
    "twosumtp(nums, target)"
   ]
  },
  {
   "cell_type": "markdown",
   "metadata": {},
   "source": [
    "허나 정렬된 형태의 리스트가 아닐 시 이러한 방법을 적용할 수 없다. 왜냐하면 초반에 nums.sort()를 쓰면 인덱스가 모두 엉망이 되어버리기 때문이다. 인덱스가 아닌 값을 찾아내는 문제라면 투 포인터로 풀 수 있지만\n",
    "이 문제는 인덱스를 찾는 문제이기 때문에 인덱스가 섞여버리면 곤란한 상황에 빠지게 된다."
   ]
  },
  {
   "cell_type": "code",
   "execution_count": null,
   "metadata": {},
   "outputs": [],
   "source": []
  },
  {
   "cell_type": "markdown",
   "metadata": {},
   "source": [
    "## 문제8. 빗물 트래핑\n",
    "### 높이를 입력받아 비 온 후 얼마나 많은 물이 쌓일 수 있는지 계산하라."
   ]
  },
  {
   "cell_type": "markdown",
   "metadata": {},
   "source": [
    "### 풀이1. 투 포인터를 최대로 이동\n",
    "\n",
    "![nn](빗물투.jpg)"
   ]
  },
  {
   "cell_type": "code",
   "execution_count": 17,
   "metadata": {},
   "outputs": [
    {
     "data": {
      "text/plain": [
       "6"
      ]
     },
     "execution_count": 17,
     "metadata": {},
     "output_type": "execute_result"
    }
   ],
   "source": [
    "height = [0,1,0,2,1,0,1,3,2,1,2,1]\n",
    "\n",
    "def trap(height):\n",
    "    if not height: # 무슨뜻?\n",
    "        return 0\n",
    "    \n",
    "    volume = 0\n",
    "    left, right = 0, len(height)-1\n",
    "    left_max, right_max = height[left], height[right]\n",
    "    \n",
    "    while left < right:\n",
    "        left_max, right_max = max(height[left], left_max), max(height[right], right_max)\n",
    "        \n",
    "        #더 높은 쪽을 향해 투 포인터 이동. 현재 높이와의 차이만큼 volume을 더해나감\n",
    "        if left_max <= right_max:\n",
    "            volume += left_max - height[left]\n",
    "            left += 1\n",
    "        else:\n",
    "            volume += right_max - height[right]\n",
    "            right -= 1\n",
    "    return volume\n",
    "\n",
    "trap(height)"
   ]
  },
  {
   "cell_type": "markdown",
   "metadata": {},
   "source": [
    "#### 풀이2. 스택 쌓기 (잘 모르겐)\n",
    "\n",
    "![nn](스택.jpg)"
   ]
  },
  {
   "cell_type": "code",
   "execution_count": 18,
   "metadata": {},
   "outputs": [
    {
     "data": {
      "text/plain": [
       "6"
      ]
     },
     "execution_count": 18,
     "metadata": {},
     "output_type": "execute_result"
    }
   ],
   "source": [
    "def trap(height):\n",
    "    stack = []\n",
    "    volume = 0\n",
    "    \n",
    "    for i in range(len(height)):\n",
    "        #변곡점을 만나는 경우\n",
    "        while stack and height[i] > height[stack[-1]]: #여기도\n",
    "            #스택에서 꺼낸다\n",
    "            top = stack.pop()\n",
    "            \n",
    "            if not len(stack): #무슨뜻?\n",
    "                break\n",
    "                \n",
    "            #이전과의 차이만큼 물 높이 처리\n",
    "            distance = i - stack[-1] -1\n",
    "            waters = min(height[i],height[stack[-1]]) - height[top]\n",
    "            \n",
    "            volume += distance * waters\n",
    "            \n",
    "        stack.append(i)\n",
    "        \n",
    "    return volume\n",
    "\n",
    "trap(height)"
   ]
  },
  {
   "cell_type": "markdown",
   "metadata": {},
   "source": [
    "## 문제9. 세 수의 합\n",
    "### 배열을 입력받아 합으로 0을 만들 수 있는 3개의 엘리먼트를 출력하라.\n",
    "#### 풀이1. 브루트 포스로 계산\n",
    "\n",
    "![nn](브루트.jpg)\n"
   ]
  },
  {
   "cell_type": "code",
   "execution_count": 27,
   "metadata": {},
   "outputs": [
    {
     "data": {
      "text/plain": [
       "[(-1, -1, 2), (-1, 0, 1)]"
      ]
     },
     "execution_count": 27,
     "metadata": {},
     "output_type": "execute_result"
    }
   ],
   "source": [
    "nums = [-1,0,1,2,-1,-4]\n",
    "def threesum(nums):\n",
    "    results = []\n",
    "    nums.sort()\n",
    "    \n",
    "    for i in range(len(nums)-2):\n",
    "        #중복된 값 건너뛰기\n",
    "        if i>0 and nums[i] == nums[i-1]:\n",
    "            continue #아래 명령어를 건너뛰는 것.\n",
    "        for j in range(i+1, len(nums)-1):\n",
    "            if j > i+1 and nums[j]==nums[j-1]:\n",
    "                continue\n",
    "            for k in range(j+1, len(nums)):\n",
    "                if k>j+1 and nums[k]==nums[k-1]:\n",
    "                    continue\n",
    "                if nums[i] + nums[j] + nums[k] == 0:\n",
    "                    results.append((nums[i],nums[j],nums[k]))\n",
    "    return results\n",
    "\n",
    "threesum(nums)"
   ]
  },
  {
   "cell_type": "code",
   "execution_count": 29,
   "metadata": {},
   "outputs": [
    {
     "data": {
      "text/plain": [
       "[(-1, -1, 2), (-1, 0, 1), (-1, 0, 1)]"
      ]
     },
     "execution_count": 29,
     "metadata": {},
     "output_type": "execute_result"
    }
   ],
   "source": [
    "#중복된 값 건너뛰기를 하지 않을 시\n",
    "def threesum(nums):\n",
    "    results = []\n",
    "    nums.sort()\n",
    "    \n",
    "    for i in range(len(nums)-2):\n",
    "        for j in range(i+1, len(nums)-1):\n",
    "            for k in range(j+1, len(nums)):\n",
    "                if nums[i] + nums[j] + nums[k] == 0:\n",
    "                    results.append((nums[i],nums[j],nums[k]))\n",
    "    return results\n",
    "threesum(nums)"
   ]
  },
  {
   "cell_type": "markdown",
   "metadata": {},
   "source": [
    "하지만 시간복잡도가 높아 타임아웃으로 문제풀이에 실패할 수 있음."
   ]
  },
  {
   "cell_type": "markdown",
   "metadata": {},
   "source": [
    "## 풀이2. 투포인터로 합 계산\n",
    "\n",
    "![nn](투포합.jpg)"
   ]
  },
  {
   "cell_type": "code",
   "execution_count": 33,
   "metadata": {},
   "outputs": [
    {
     "data": {
      "text/plain": [
       "[(-1, -1, 2), (-1, 0, 1)]"
      ]
     },
     "execution_count": 33,
     "metadata": {},
     "output_type": "execute_result"
    }
   ],
   "source": [
    "def ths(nums):\n",
    "    results=[]\n",
    "    nums.sort()\n",
    "    \n",
    "    for i in range(len(nums)-2):\n",
    "        #중복된 값 건너뛰기\n",
    "        if i>0 and nums[i] == nums[i-1]:\n",
    "            continue\n",
    "            \n",
    "        #간격을 좁혀가며 합 sum 계산\n",
    "        left, right = i+1, len(nums)-1\n",
    "        while left < right:\n",
    "            sum = nums[i]+nums[left]+nums[right]\n",
    "            if sum<0: #총합이 0보다 작으므로 왼쪽포인트를 앞으로 한칸\n",
    "                left +=1\n",
    "            elif sum>0: #총합이 0보다 크므로 오른쪽 포인트를 뒤로 한칸\n",
    "                right -= 1\n",
    "            else:\n",
    "                #sum=0인 경우이므로 정답 및 스킵처리\n",
    "                results.append((nums[i],nums[left],nums[right]))\n",
    "                #우리의 케이스에서는 사용되지 않음.\n",
    "                while left < right and nums[left]==nums[left+1]:\n",
    "                    left += 1\n",
    "                while left < right and nums[right]==nums[right-1]:\n",
    "                    right -=1\n",
    "                left+=1\n",
    "                right -=1\n",
    "                \n",
    "    return results\n",
    "    \n",
    "ths(nums)\n",
    "                "
   ]
  },
  {
   "cell_type": "code",
   "execution_count": 46,
   "metadata": {},
   "outputs": [
    {
     "data": {
      "text/plain": [
       "[(-4, 2, 2), (-4, 2, 2), (-1, -1, 2), (-1, 0, 1)]"
      ]
     },
     "execution_count": 46,
     "metadata": {},
     "output_type": "execute_result"
    }
   ],
   "source": [
    "nums = [-1,0,1,2,-1,-4]\n",
    "nums = nums + [2,2,2]\n",
    "#이런식으로 같은값이 여러개 있을 시 skip을 안해주면 중복값이 발생\n",
    "def ths(nums):\n",
    "    results=[]\n",
    "    nums.sort()\n",
    "    \n",
    "    for i in range(len(nums)-2):\n",
    "        #중복된 값 건너뛰기\n",
    "        if i>0 and nums[i] == nums[i-1]:\n",
    "            continue\n",
    "            \n",
    "        #간격을 좁혀가며 합 sum 계산\n",
    "        left, right = i+1, len(nums)-1\n",
    "        while left < right:\n",
    "            sum = nums[i]+nums[left]+nums[right]\n",
    "            if sum<0: #총합이 0보다 작으므로 왼쪽포인트를 앞으로 한칸\n",
    "                left +=1\n",
    "            elif sum>0: #총합이 0보다 크므로 오른쪽 포인트를 뒤로 한칸\n",
    "                right -= 1\n",
    "            else:\n",
    "                #sum=0인 경우이므로 정답 및 스킵처리\n",
    "                results.append((nums[i],nums[left],nums[right]))\n",
    "\n",
    "                left+=1\n",
    "                right -=1\n",
    "                \n",
    "    return results\n",
    "    \n",
    "ths(nums)"
   ]
  },
  {
   "cell_type": "code",
   "execution_count": null,
   "metadata": {},
   "outputs": [],
   "source": []
  }
 ],
 "metadata": {
  "kernelspec": {
   "display_name": "Python 3",
   "language": "python",
   "name": "python3"
  },
  "language_info": {
   "codemirror_mode": {
    "name": "ipython",
    "version": 3
   },
   "file_extension": ".py",
   "mimetype": "text/x-python",
   "name": "python",
   "nbconvert_exporter": "python",
   "pygments_lexer": "ipython3",
   "version": "3.8.5"
  }
 },
 "nbformat": 4,
 "nbformat_minor": 4
}
