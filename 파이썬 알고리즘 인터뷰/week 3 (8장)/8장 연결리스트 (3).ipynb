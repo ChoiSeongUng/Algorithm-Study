{
 "cells": [
  {
   "cell_type": "code",
   "execution_count": 49,
   "metadata": {},
   "outputs": [],
   "source": [
    "class ListNode:\n",
    "    def __init__(self, val=0, next=None):\n",
    "        self.val = val\n",
    "        self.next = next"
   ]
  },
  {
   "cell_type": "markdown",
   "metadata": {},
   "source": [
    "## 문제16. 두 수의 덧셈: 역순으로 저장된 연결 리스트의 숫자를 더하라.\n",
    "\n",
    "- 입력\n",
    "(2 -> 4 -> 3 ) + (5 -> 6 -> 4)\n",
    "\n",
    "- 출력\n",
    "7 -> 0 -> 8\n",
    "\n",
    "- 설명\n",
    "342 + 465 = 807\n"
   ]
  },
  {
   "cell_type": "markdown",
   "metadata": {},
   "source": []
  },
  {
   "cell_type": "code",
   "execution_count": 50,
   "metadata": {},
   "outputs": [],
   "source": [
    "l1 = ListNode(2)\n",
    "l1.next = ListNode(4)\n",
    "l1.next.next = ListNode(3)\n",
    "\n",
    "l2 = ListNode(5)\n",
    "l2.next = ListNode(6)\n",
    "l2.next.next = ListNode(4)"
   ]
  },
  {
   "cell_type": "markdown",
   "metadata": {},
   "source": [
    "### 풀이2. 전가산기 구현"
   ]
  },
  {
   "cell_type": "markdown",
   "metadata": {},
   "source": [
    "![nn](전자기식.jpg)"
   ]
  },
  {
   "cell_type": "code",
   "execution_count": 55,
   "metadata": {},
   "outputs": [],
   "source": [
    "class Solution:\n",
    "    def addTwoNumbers(l1: ListNode, l2: ListNode) -> ListNode:\n",
    "        root=head=ListNode(0)\n",
    "        \n",
    "        carry=0 #10의자릿수 저장\n",
    "        while l1 or l2 or carry:\n",
    "            sum = 0\n",
    "            if l1:\n",
    "                sum += l1.val\n",
    "                l1 = l1.next\n",
    "            if l2:\n",
    "                sum += l2.val\n",
    "                l2 = l2.next\n",
    "                \n",
    "            carry, val = divmod(sum+carry,10)\n",
    "            head.next = ListNode(val)\n",
    "            head = head.next #head는 최종적으로 0 -> 7 -> 0 -> 8\n",
    "                \n",
    "        return root.next #head=root이므로 root.next부터 뽑아내면 됨. head.next를 하지 못하는 이유는 head의 포인터는 끝에 가있기 때문\n",
    "    \n",
    "    #내 생각이 맞냐?\n",
    "\n",
    "        "
   ]
  },
  {
   "cell_type": "markdown",
   "metadata": {},
   "source": [
    "\n",
    "### 풀이1. 자료형 변환\n"
   ]
  },
  {
   "cell_type": "markdown",
   "metadata": {},
   "source": [
    "![nn](합변환.jpg)"
   ]
  },
  {
   "cell_type": "code",
   "execution_count": 51,
   "metadata": {},
   "outputs": [],
   "source": [
    "class Solution:\n",
    "    # 연결 리스트 뒤집기\n",
    "    def reverseList(self, head):\n",
    "        node, prev = head, None\n",
    "        \n",
    "        while node:\n",
    "            next, node.next = node.next, prev\n",
    "            prev, node = node, next\n",
    "            \n",
    "        return prev\n",
    "    \n",
    "    #연결리스트를 파이썬 리스트로 변환\n",
    "    def toList(self, node):\n",
    "        list = []\n",
    "        while node:\n",
    "            list.append(node.val)\n",
    "            node = node.next\n",
    "        return list\n",
    "    \n",
    "    def torevlinklist(self, result): #책에는 result가 listnode라고 나와있는데 그냥 list일듯?\n",
    "        prev = None\n",
    "        for r in result:\n",
    "            node = ListNode(r)\n",
    "            node.next = prev\n",
    "            prev = node\n",
    "            \n",
    "        return node\n",
    "    # \n",
    "    #두 연결 리스트의 덧셈\n",
    "    def addtwonum(self, l1, l2):\n",
    "        a = self.toList(self.reverseList(l1)) #역순 -> 리스트변환\n",
    "        b = self.toList(self.reverseList(l2))\n",
    "        \n",
    "        resultStr = int(''.join(str(e) for e in a)) + int(''.join(str(e) for e in b))\n",
    "        \n",
    "        return self.torevlinklist(str(resultStr))\n",
    "    \n",
    "    "
   ]
  },
  {
   "cell_type": "markdown",
   "metadata": {},
   "source": [
    "### 별첨부록. 숫자형 리스트를 단일 값으로 병합하기"
   ]
  },
  {
   "cell_type": "code",
   "execution_count": 56,
   "metadata": {},
   "outputs": [
    {
     "data": {
      "text/plain": [
       "'112131415'"
      ]
     },
     "execution_count": 56,
     "metadata": {},
     "output_type": "execute_result"
    }
   ],
   "source": [
    "a = [1,2,3,4,5]\n",
    "''.join(str(e) for e in a) # ' 연결사'"
   ]
  },
  {
   "cell_type": "code",
   "execution_count": 57,
   "metadata": {},
   "outputs": [
    {
     "data": {
      "text/plain": [
       "'12345'"
      ]
     },
     "execution_count": 57,
     "metadata": {},
     "output_type": "execute_result"
    }
   ],
   "source": [
    "''.join(map(str,a)) # map은 리스트의 요소를 지정된 함수로 처리해주는 함수"
   ]
  },
  {
   "cell_type": "code",
   "execution_count": 58,
   "metadata": {},
   "outputs": [],
   "source": [
    "#근데 위에서 resultstr 내는것이 막 숫자를 문자로했다 숫자로 했다 참 번거롭다 그죠?\n",
    "#섹시하게 가봅시다."
   ]
  },
  {
   "cell_type": "code",
   "execution_count": 62,
   "metadata": {},
   "outputs": [
    {
     "data": {
      "text/plain": [
       "12345"
      ]
     },
     "execution_count": 62,
     "metadata": {},
     "output_type": "execute_result"
    }
   ],
   "source": [
    "import functools\n",
    "\n",
    "functools.reduce(lambda x, y: 10*x + y,a) #reduce: 두 인수의 함수를 누적 적용하라는 메소드\n",
    "\n",
    "#12 123 1234 12345"
   ]
  },
  {
   "cell_type": "code",
   "execution_count": 61,
   "metadata": {},
   "outputs": [
    {
     "data": {
      "text/plain": [
       "15"
      ]
     },
     "execution_count": 61,
     "metadata": {},
     "output_type": "execute_result"
    }
   ],
   "source": [
    "functools.reduce(lambda x, y: x+y, [1,2,3,4,5]) #((((1+2)+3)+4)+5)를 의미"
   ]
  },
  {
   "cell_type": "code",
   "execution_count": 73,
   "metadata": {},
   "outputs": [
    {
     "data": {
      "text/plain": [
       "15"
      ]
     },
     "execution_count": 73,
     "metadata": {},
     "output_type": "execute_result"
    }
   ],
   "source": [
    "def add(a, b):\n",
    "       return a + b\n",
    "    \n",
    "functools.reduce(add, [1,2,3,4,5])"
   ]
  },
  {
   "cell_type": "code",
   "execution_count": null,
   "metadata": {},
   "outputs": [],
   "source": []
  },
  {
   "cell_type": "markdown",
   "metadata": {},
   "source": [
    "## 문제 17. 페어의 노드 스왑: 연결 리스트를 입력받아 페어 단위로 스왑하라.\n",
    "\n",
    "- 입력: 1 -> 2 -> 3 -> 4\n",
    "\n",
    "- 출력: 2 -> 1->4->3\n",
    "\n",
    "### 풀이1. 값만 교환"
   ]
  },
  {
   "cell_type": "code",
   "execution_count": 75,
   "metadata": {},
   "outputs": [],
   "source": [
    "def swapPairs(head):\n",
    "    cur = head\n",
    "    \n",
    "    while cur and cur.next:\n",
    "        #값만 교환\n",
    "        cur.val, cur.next.val = cur.next.val, cur.val\n",
    "        cur = cur.next.next\n",
    "    return head\n",
    "\n",
    "#굉장히 직관적인 풀이이나 실용적이진 않음."
   ]
  },
  {
   "cell_type": "markdown",
   "metadata": {},
   "source": [
    "### 풀이2. 반복 구조로 스왑"
   ]
  },
  {
   "cell_type": "markdown",
   "metadata": {},
   "source": [
    "![nn](반복페어.jpg)"
   ]
  },
  {
   "cell_type": "code",
   "execution_count": null,
   "metadata": {},
   "outputs": [],
   "source": [
    "def swapPairs(head):\n",
    "    root = prev = ListNode(None)\n",
    "    prev.next = head\n",
    "    while head and head.next:\n",
    "        #b가 head를 가리키도록 할당\n",
    "        b = head.next\n",
    "        head.next = b.next #짝수노드가 없어짐\n",
    "        b.next = head #b의 두번째 노드가 기존 head의 첫번째 노드를 바라보게됨\n",
    "        \n",
    "        #prev가 b를 가리키도록 할당\n",
    "        prev.next = b \n",
    "        \n",
    "        #다음번 비교를 위해 이동\n",
    "        head = head.next\n",
    "        prev = prev.next.next\n",
    "        #prev는 포인터가 이동한 상태이므로 동일한 상태로 저장되었지만 첫번째 포인터를 갖고있는 root를 반환\n",
    "    return root.next\n",
    "        \n",
    "        "
   ]
  },
  {
   "cell_type": "markdown",
   "metadata": {},
   "source": [
    "### 풀이3. 재귀 구조로 스왑"
   ]
  },
  {
   "cell_type": "markdown",
   "metadata": {},
   "source": [
    "![nn](재귀.jpg)"
   ]
  },
  {
   "cell_type": "code",
   "execution_count": 1,
   "metadata": {},
   "outputs": [],
   "source": [
    "def swapPairs(head):\n",
    "    if head and head.next:\n",
    "        p = head.next\n",
    "        #스왑된 값 리턴 받음\n",
    "        head.next = self.swapPairs(p.next) #2칸뒤에 링크된 노드로 head.next를 옮겨주는 것.\n",
    "        p.next = head\n",
    "        return p\n",
    "    \n",
    "    #head나 headnext가 없으면 그냥 바로내보내기\n",
    "    return head"
   ]
  },
  {
   "cell_type": "code",
   "execution_count": 3,
   "metadata": {},
   "outputs": [],
   "source": [
    "#다른방법\n",
    "def swapPairs(head):\n",
    "    if head == None or head.next == None:\n",
    "        return head\n",
    "    p1 = head\n",
    "    p2 = head.next\n",
    "    p3 = p2.next\n",
    "    p1.next = p3\n",
    "    p2.next = p1\n",
    "    if p3 :\n",
    "        p1.next = self.swapPairs(p3)\n",
    "    return p2\n"
   ]
  },
  {
   "cell_type": "code",
   "execution_count": null,
   "metadata": {},
   "outputs": [],
   "source": []
  }
 ],
 "metadata": {
  "kernelspec": {
   "display_name": "Python 3",
   "language": "python",
   "name": "python3"
  },
  "language_info": {
   "codemirror_mode": {
    "name": "ipython",
    "version": 3
   },
   "file_extension": ".py",
   "mimetype": "text/x-python",
   "name": "python",
   "nbconvert_exporter": "python",
   "pygments_lexer": "ipython3",
   "version": "3.8.5"
  }
 },
 "nbformat": 4,
 "nbformat_minor": 4
}
