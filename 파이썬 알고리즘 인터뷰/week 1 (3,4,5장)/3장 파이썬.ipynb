{
 "cells": [
  {
   "cell_type": "markdown",
   "metadata": {
    "id": "pFWAyWcrryYy"
   },
   "source": [
    "## 인덴트\n",
    "\n",
    "- 파이썬의 대표적인 코딩 스타일 가이드는 PEP8\n",
    "- 4칸 들여쓰기가 원칙\n",
    "- 첫 번째 줄에 파라미터가 있다면 다음줄에 보기좋게 맞춤, 없다면 4칸 인덴트 한번더 추가하여 구분\n",
    "\n",
    "\n"
   ]
  },
  {
   "cell_type": "code",
   "execution_count": null,
   "metadata": {
    "id": "wQFF1sa4rBuP"
   },
   "outputs": [],
   "source": []
  },
  {
   "cell_type": "markdown",
   "metadata": {
    "id": "d2axpbf_sk3v"
   },
   "source": [
    "## 네이밍 컨벤션\n",
    "\n",
    "- 파이썬은 기본적으로 단어와 단어를 \"_\"로 구분하는 스네이크 케이스를 따름(vs 카멜 케이스: 대소문자로 구분)\n"
   ]
  },
  {
   "cell_type": "code",
   "execution_count": null,
   "metadata": {
    "id": "OiDbSZshtYxO"
   },
   "outputs": [],
   "source": []
  },
  {
   "cell_type": "markdown",
   "metadata": {
    "id": "bFAcrHC0tZ3l"
   },
   "source": [
    "## 타입 힌트\n",
    "\n",
    "- 함수를 정의할 때 파라미터와 리턴값의 타입을 정의할 수 있음\n",
    "- 코드 작성시에 가독성을 용이하게 하기 위함 \n",
    "- mypy를 통해 타입 힌트의 오류를 확인 가능"
   ]
  },
  {
   "cell_type": "code",
   "execution_count": 5,
   "metadata": {
    "id": "oHzlYrk2tsua"
   },
   "outputs": [],
   "source": [
    "def fn(a: int) ->bool:\n",
    "  return(a> 1)"
   ]
  },
  {
   "cell_type": "code",
   "execution_count": 9,
   "metadata": {
    "colab": {
     "base_uri": "https://localhost:8080/"
    },
    "id": "cIXWMV1tt815",
    "outputId": "c1207d77-decc-4187-ab37-40e63c7ff269"
   },
   "outputs": [
    {
     "data": {
      "text/plain": [
       "True"
      ]
     },
     "execution_count": 9,
     "metadata": {
      "tags": []
     },
     "output_type": "execute_result"
    }
   ],
   "source": [
    "fn(2)"
   ]
  },
  {
   "cell_type": "code",
   "execution_count": 16,
   "metadata": {
    "colab": {
     "base_uri": "https://localhost:8080/",
     "height": 133
    },
    "id": "79HcwZPtuePc",
    "outputId": "013d88e6-5618-4d54-e5ab-51c4f861cc9c"
   },
   "outputs": [
    {
     "ename": "SyntaxError",
     "evalue": "ignored",
     "output_type": "error",
     "traceback": [
      "\u001b[0;36m  File \u001b[0;32m\"<ipython-input-16-69bdee8ef18e>\"\u001b[0;36m, line \u001b[0;32m2\u001b[0m\n\u001b[0;31m    mypy solution.py\u001b[0m\n\u001b[0m                ^\u001b[0m\n\u001b[0;31mSyntaxError\u001b[0m\u001b[0;31m:\u001b[0m invalid syntax\n"
     ]
    }
   ],
   "source": [
    "#pip install mypy\n",
    "mypy solution.py"
   ]
  },
  {
   "cell_type": "code",
   "execution_count": null,
   "metadata": {
    "id": "AMboMD0Du9W3"
   },
   "outputs": [],
   "source": []
  },
  {
   "cell_type": "markdown",
   "metadata": {
    "id": "FXmtAePru9sd"
   },
   "source": [
    "## 리스트 컴프리헨션\n",
    "\n",
    "- 기존 리스트를 기반으로 새로운 리스트를 만들어내는 구문. 람다 표현식에 map, filter를 사용하는 것보다 가독성이 좋다\n",
    "- 하지만 무리하게 복잡하게 작성할 경우 가독성을 저하(2줄을 넘기지 않도록)`\n"
   ]
  },
  {
   "cell_type": "code",
   "execution_count": 17,
   "metadata": {
    "colab": {
     "base_uri": "https://localhost:8080/"
    },
    "id": "YtRg5VV1vyVw",
    "outputId": "6b0b0c71-fe62-465c-a29b-76127903c32b"
   },
   "outputs": [
    {
     "data": {
      "text/plain": [
       "[2, 6, 10, 14, 18]"
      ]
     },
     "execution_count": 17,
     "metadata": {
      "tags": []
     },
     "output_type": "execute_result"
    }
   ],
   "source": [
    "[n*2 for n in range(1,10+1) if n % 2 ==1]"
   ]
  },
  {
   "cell_type": "markdown",
   "metadata": {
    "id": "NUeu7W4YwOIW"
   },
   "source": [
    "## 제너레이터\n",
    "\n",
    "- 루프의 반복 동작을 제어할 수 있는 루틴 형태.\n",
    "- 기존 함수의 return 대신 yield를 사용하며, 가장 최근에 반환한 값을 기억하고 맨 끝에 도달할 때까지 값을 반환(next())\n",
    "- 여러 탑의 값을 하나의 함수에서 생성하는 것도 가능 \n",
    "- range()도 제너레이터의 방식을 사용"
   ]
  },
  {
   "cell_type": "code",
   "execution_count": 22,
   "metadata": {
    "colab": {
     "base_uri": "https://localhost:8080/"
    },
    "id": "HuAMi0ztxoE9",
    "outputId": "f69ebbe3-b428-4dbe-db18-4505dbbbf940"
   },
   "outputs": [
    {
     "name": "stdout",
     "output_type": "stream",
     "text": [
      "1000\n",
      "123\n"
     ]
    }
   ],
   "source": [
    "print(len(range(1000)))\n",
    "print(range(1000)[123])\n",
    "#next(range(1000))"
   ]
  },
  {
   "cell_type": "markdown",
   "metadata": {
    "id": "OLSoqd3vyBgc"
   },
   "source": [
    "## 에튜머레이트(enumerate)\n",
    "\n",
    "- 순서가 있는 자료형(list, set, tuple)을 인덱스를 포함한 enumerate 객체로 리턴\n"
   ]
  },
  {
   "cell_type": "code",
   "execution_count": 26,
   "metadata": {
    "colab": {
     "base_uri": "https://localhost:8080/"
    },
    "id": "3wIHeCaDyh_f",
    "outputId": "87f4e69f-41f5-43fc-dd63-88ba3aa6f49c"
   },
   "outputs": [
    {
     "data": {
      "text/plain": [
       "<enumerate at 0x7fa135f1bf78>"
      ]
     },
     "execution_count": 26,
     "metadata": {
      "tags": []
     },
     "output_type": "execute_result"
    }
   ],
   "source": [
    "a = [5,4,3,2,1]\n",
    "a_e = enumerate(a)\n",
    "a_e2 = enumerate(a,3)\n",
    "a_e"
   ]
  },
  {
   "cell_type": "code",
   "execution_count": 25,
   "metadata": {
    "colab": {
     "base_uri": "https://localhost:8080/"
    },
    "id": "85M_dom4xQe5",
    "outputId": "9b2a12fd-7d97-4db3-8185-a2e511d0bbc3"
   },
   "outputs": [
    {
     "data": {
      "text/plain": [
       "(0, 5)"
      ]
     },
     "execution_count": 25,
     "metadata": {
      "tags": []
     },
     "output_type": "execute_result"
    }
   ],
   "source": [
    "next(a_e)"
   ]
  },
  {
   "cell_type": "code",
   "execution_count": 27,
   "metadata": {
    "colab": {
     "base_uri": "https://localhost:8080/"
    },
    "id": "lt81rlWsxIWu",
    "outputId": "f523cae3-4190-4048-87fe-125942980e3c"
   },
   "outputs": [
    {
     "data": {
      "text/plain": [
       "(3, 5)"
      ]
     },
     "execution_count": 27,
     "metadata": {
      "tags": []
     },
     "output_type": "execute_result"
    }
   ],
   "source": [
    "next(a_e2)"
   ]
  },
  {
   "cell_type": "markdown",
   "metadata": {
    "id": "bD7TrtUrzMzX"
   },
   "source": [
    "## 프린트(print)\n",
    "\n",
    "- 출력 방식을 설정하는 다양한 파라미터 존재\n",
    "- format 이나 f string방식을 활용하면 단결하고 직관적이게 출력 가능 "
   ]
  },
  {
   "cell_type": "code",
   "execution_count": 36,
   "metadata": {
    "colab": {
     "base_uri": "https://localhost:8080/"
    },
    "id": "T_f6uv7BzXoK",
    "outputId": "4c832cb0-2271-4ddd-ee3b-b4e64906418c"
   },
   "outputs": [
    {
     "name": "stdout",
     "output_type": "stream",
     "text": [
      "A/B\n",
      "a b\n",
      "예방\n"
     ]
    }
   ],
   "source": [
    "print(\"A\",\"B\", sep = \"/\")\n",
    "print(\"a\", end = \" \")\n",
    "print(\"b\")\n",
    "list_a = [\"예\", \"방\"]\n",
    "print(''.join(list_a))"
   ]
  },
  {
   "cell_type": "code",
   "execution_count": 39,
   "metadata": {
    "colab": {
     "base_uri": "https://localhost:8080/"
    },
    "id": "h_qiuJte0LoA",
    "outputId": "be9e0ca1-ea4f-47b2-c033-5ee705a7d80c"
   },
   "outputs": [
    {
     "name": "stdout",
     "output_type": "stream",
     "text": [
      "Apple : 1\n",
      "2 : Apple\n"
     ]
    }
   ],
   "source": [
    "idx  = 1\n",
    "fruit = \"Apple\"\n",
    "\n",
    "# format\n",
    "print('{1} : {0}'.format(idx, fruit))\n",
    "print(f'{idx+1} : {fruit}')"
   ]
  },
  {
   "cell_type": "code",
   "execution_count": null,
   "metadata": {
    "id": "D5zOaO2t0GKs"
   },
   "outputs": [],
   "source": []
  },
  {
   "cell_type": "markdown",
   "metadata": {
    "id": "PnXGlHLj01Go"
   },
   "source": [
    "## 패스(pass)\n",
    "- 클랴스 안에 여러개의 함수를 지정할 경우, 아무 연산도 하지 않을 때 pass를 집어넣어 오류 방지"
   ]
  },
  {
   "cell_type": "code",
   "execution_count": 46,
   "metadata": {
    "colab": {
     "base_uri": "https://localhost:8080/",
     "height": 133
    },
    "id": "GD08M7gw15hx",
    "outputId": "90bb410f-25aa-46ff-efa2-4d657b233ae1"
   },
   "outputs": [
    {
     "ename": "IndentationError",
     "evalue": "ignored",
     "output_type": "error",
     "traceback": [
      "\u001b[0;36m  File \u001b[0;32m\"<ipython-input-46-51e54af4ec00>\"\u001b[0;36m, line \u001b[0;32m4\u001b[0m\n\u001b[0;31m    def method_b(self):\u001b[0m\n\u001b[0m      ^\u001b[0m\n\u001b[0;31mIndentationError\u001b[0m\u001b[0;31m:\u001b[0m expected an indented block\n"
     ]
    }
   ],
   "source": [
    "class YeBang(object):\n",
    "  def method_a(self):\n",
    "\n",
    "  def method_b(self):\n",
    "    print(\"Method B\")\n",
    "\n",
    "c = YeBang()      "
   ]
  },
  {
   "cell_type": "code",
   "execution_count": 47,
   "metadata": {
    "id": "JNO43J0u2Nxy"
   },
   "outputs": [],
   "source": [
    "class YeBang(object):\n",
    "  def method_a(self):\n",
    "    pass\n",
    "\n",
    "  def method_b(self):\n",
    "    print(\"Method B\")\n",
    "\n",
    "c = YeBang()      "
   ]
  },
  {
   "cell_type": "code",
   "execution_count": 54,
   "metadata": {
    "colab": {
     "base_uri": "https://localhost:8080/"
    },
    "id": "zoai6bow2Wdv",
    "outputId": "640f4745-9171-42a0-cf68-c5f73d82cc11"
   },
   "outputs": [
    {
     "name": "stdout",
     "output_type": "stream",
     "text": [
      "None\n",
      "Method B\n",
      "None\n"
     ]
    }
   ],
   "source": [
    "print(c.method_a())\n",
    "print(c.method_b())"
   ]
  }
 ],
 "metadata": {
  "colab": {
   "collapsed_sections": [],
   "name": "21_01_21_chapter_3.ipynb",
   "provenance": []
  },
  "kernelspec": {
   "display_name": "Python 3",
   "language": "python",
   "name": "python3"
  },
  "language_info": {
   "codemirror_mode": {
    "name": "ipython",
    "version": 3
   },
   "file_extension": ".py",
   "mimetype": "text/x-python",
   "name": "python",
   "nbconvert_exporter": "python",
   "pygments_lexer": "ipython3",
   "version": "3.7.6"
  }
 },
 "nbformat": 4,
 "nbformat_minor": 1
}
