{
 "cells": [
  {
   "cell_type": "markdown",
   "metadata": {},
   "source": [
    "## 리스트\n",
    "리스트: 순서대로 저장하는 시퀀스이자 변경 간으한 목록. 입력 순서가 유지되며, 내부적으로는 동적 배열로 구현되어 있다. 스택과 큐에서 사용 가능한 모든 연산을 함께 제공한다.\n",
    "\n",
    "리스트의 주요 연산 시간복잡도\n",
    "1. len(a): O(1) (전체 요소의 개수)\n",
    "2. a[i] : O(1) (인덱스 i의 요소)\n",
    "3. a[i:j] : O(k) ( i to j 의 길이만큼인 k개의 요소. k개에 대한 조회가 필요하므로 O(k))\n",
    "4. elem in a :O(n) (elem 요소가 존재하는지 확인, 순차탐색하므로 n만큼의 시간 소요)\n",
    "5. a.count(elem) : O(n) ( elem 요소의 개수 리턴)\n",
    "6. a.index(elem) : O(n) (elem 요소의 인덱스 리턴)\n",
    "7. a.append(elem): O(1) (리스트 마지막에 elem 추가)\n",
    "8. a.pop() : O(1) (리스트 마지막 요소를 추출. 스택의 연산)\n",
    "9. a.pop(0) : O(n) ( 리스트 첫번째 요소를 추출, 큐의 연산. 전체 복사가 필요하므로 O(n)이 됨.)\n",
    "10. del a[i] : O(n) (i요소 제거. i에 따라 다르고 최악의 경우 O(n))\n",
    "11. a.sort() : O(nlogn) ( 정렬, Timsort사용. 최선의 경우 O(n)도 가능)\n",
    "12. min(a), max(a): O(n) ( 최솟값/최댓값. 전체를 선형탐색해야해서 O(n))\n",
    "13. a.reverse() : O(n) (뒤집기. 리스트를 뒤집게 되면 입력순서가 반대로 됨)\n",
    "\n"
   ]
  },
  {
   "cell_type": "markdown",
   "metadata": {},
   "source": [
    "## 리스트의 활용 방법\n"
   ]
  },
  {
   "cell_type": "code",
   "execution_count": 99,
   "metadata": {},
   "outputs": [
    {
     "data": {
      "text/plain": [
       "[1, 2, 3]"
      ]
     },
     "execution_count": 99,
     "metadata": {},
     "output_type": "execute_result"
    }
   ],
   "source": [
    "#선언 1\n",
    "a= list()\n",
    "#선언 2\n",
    "a= []\n",
    "#초깃값 지정 선언\n",
    "a=[1,2,3]\n",
    "a"
   ]
  },
  {
   "cell_type": "code",
   "execution_count": 100,
   "metadata": {},
   "outputs": [
    {
     "data": {
      "text/plain": [
       "[1, 2, 3, 4, 'hi', True]"
      ]
     },
     "execution_count": 100,
     "metadata": {},
     "output_type": "execute_result"
    }
   ],
   "source": [
    "#append() : 숫자말고 문자, 불리언도 가능\n",
    "a.append(4)\n",
    "a.append('hi')\n",
    "a.append(True)\n",
    "a"
   ]
  },
  {
   "cell_type": "code",
   "execution_count": 101,
   "metadata": {},
   "outputs": [
    {
     "data": {
      "text/plain": [
       "[1, 2, 3, 5, 4, 'hi', True]"
      ]
     },
     "execution_count": 101,
     "metadata": {},
     "output_type": "execute_result"
    }
   ],
   "source": [
    "#insert(index, elem)\n",
    "a.insert(3,5)\n",
    "a"
   ]
  },
  {
   "cell_type": "code",
   "execution_count": 102,
   "metadata": {},
   "outputs": [
    {
     "name": "stdout",
     "output_type": "stream",
     "text": [
      "5\n",
      "[1, 2, 3]\n",
      "[1, 2, 3]\n",
      "[4, 'hi', True]\n",
      "[2, 5]\n"
     ]
    }
   ],
   "source": [
    "#indexing\n",
    "print(a[3])\n",
    "print(a[0:3]) #3이전까지의 인덱스만\n",
    "print(a[:3])  #시작인덱스 생략\n",
    "print(a[4:])  #종료인덱스 생략\n",
    "print(a[1:4:2]) #홀수인덱스만, 세번째 param은 단계(step)의 의미"
   ]
  },
  {
   "cell_type": "markdown",
   "metadata": {},
   "source": [
    "### 존재하지 않는 인덱스 조회 에러에 대한 예외처리"
   ]
  },
  {
   "cell_type": "code",
   "execution_count": 103,
   "metadata": {},
   "outputs": [
    {
     "name": "stdout",
     "output_type": "stream",
     "text": [
      "존재하지 않는 인덱스\n"
     ]
    }
   ],
   "source": [
    "\n",
    "try:\n",
    "    print(a[9])\n",
    "except IndexError:\n",
    "    print('존재하지 않는 인덱스')"
   ]
  },
  {
   "cell_type": "markdown",
   "metadata": {},
   "source": [
    "### 요소의 삭제"
   ]
  },
  {
   "cell_type": "code",
   "execution_count": 104,
   "metadata": {},
   "outputs": [
    {
     "name": "stdout",
     "output_type": "stream",
     "text": [
      "[1, 2, 3, 5, 4, 'hi', True]\n"
     ]
    },
    {
     "data": {
      "text/plain": [
       "[1, 3, 5, 4, 'hi', True]"
      ]
     },
     "execution_count": 104,
     "metadata": {},
     "output_type": "execute_result"
    }
   ],
   "source": [
    "#인덱스로 삭제\n",
    "print(a)\n",
    "del a[1]\n",
    "a"
   ]
  },
  {
   "cell_type": "code",
   "execution_count": 105,
   "metadata": {},
   "outputs": [
    {
     "name": "stdout",
     "output_type": "stream",
     "text": [
      "[1, 3, 5, 4, 'hi', True]\n"
     ]
    },
    {
     "data": {
      "text/plain": [
       "[1, 5, 4, 'hi', True]"
      ]
     },
     "execution_count": 105,
     "metadata": {},
     "output_type": "execute_result"
    }
   ],
   "source": [
    "#요소로 삭제\n",
    "print(a)\n",
    "a.remove(3)\n",
    "a"
   ]
  },
  {
   "cell_type": "code",
   "execution_count": 106,
   "metadata": {},
   "outputs": [
    {
     "name": "stdout",
     "output_type": "stream",
     "text": [
      "[1, 5, 4, 'hi', True]\n",
      "hi\n"
     ]
    },
    {
     "data": {
      "text/plain": [
       "[1, 5, 4, True]"
      ]
     },
     "execution_count": 106,
     "metadata": {},
     "output_type": "execute_result"
    }
   ],
   "source": [
    "# pop(). 스택의 팝연산처럼 추출처리. 즉, 삭제될 값을 리턴하고 삭제를 진행\n",
    "print(a)\n",
    "print(a.pop(3))\n",
    "a"
   ]
  },
  {
   "cell_type": "markdown",
   "metadata": {},
   "source": [
    "## 리스트의 특징\n",
    "\n",
    "CPython에서 리스트는 요소에 대한 포인터 목록(ob_item)을 갖고있는 구조체로 선언되어있다.\n",
    "파이썬의 모든 자료형은 객체로 되어있는데  리스트는 이처럼 객체로 되어 있는 모든 자료형을 포인터로 연결한다. 따라서 리스트는 배열과 연결리스트를 합친 듯한 강력한 기능을 제공하며, 앞서 보여준 것 처럼 정수, 문자, 불리언 등 다양한 타입을 동시에 단일 리스트에서 관리할 수 있다.\n",
    "그러나 각 자료형의 크기가 저마다 서로 달라 이들을 연속된 메모리 공간에 할당하는 것이 불가능하며, 인덱스를 조회할 때 추가적인 작업이 많이 필요해 속도가 느려진다는 단점또한 존재한다.\n"
   ]
  },
  {
   "cell_type": "markdown",
   "metadata": {},
   "source": [
    "### deque: list에서 큐의 연산을 사용할 때 시간 복잡도가 높아지는 데 이를 해결하는 자료형이 바로 deque\n",
    "#### 참조링크: https://python.flowdas.com/library/collections.html"
   ]
  },
  {
   "cell_type": "code",
   "execution_count": 107,
   "metadata": {},
   "outputs": [
    {
     "name": "stdout",
     "output_type": "stream",
     "text": [
      "deque(['a', 'b', 'c'])\n",
      "A\n",
      "B\n",
      "C\n"
     ]
    }
   ],
   "source": [
    "from collections import deque\n",
    "\n",
    "d = deque('abc')\n",
    "print(d)\n",
    "for elem in d:                   # 데크의 요소들을 이터레이트\n",
    "     print(elem.upper())\n"
   ]
  },
  {
   "cell_type": "code",
   "execution_count": 108,
   "metadata": {},
   "outputs": [
    {
     "name": "stdout",
     "output_type": "stream",
     "text": [
      "deque(['a', 'b', 'c', 'k'])\n",
      "deque(['p', 'a', 'b', 'c', 'k'])\n"
     ]
    }
   ],
   "source": [
    "d.append('k') #추가\n",
    "print(d)\n",
    "d.appendleft('p') #앞에추가\n",
    "print(d)\n"
   ]
  },
  {
   "cell_type": "code",
   "execution_count": 109,
   "metadata": {},
   "outputs": [
    {
     "name": "stdout",
     "output_type": "stream",
     "text": [
      "k\n",
      "p\n"
     ]
    },
    {
     "data": {
      "text/plain": [
       "deque(['a', 'b', 'c'])"
      ]
     },
     "execution_count": 109,
     "metadata": {},
     "output_type": "execute_result"
    }
   ],
   "source": [
    "print(d.pop())\n",
    "print(d.popleft())\n",
    "d"
   ]
  },
  {
   "cell_type": "code",
   "execution_count": 110,
   "metadata": {},
   "outputs": [
    {
     "name": "stdout",
     "output_type": "stream",
     "text": [
      "deque(['c', 'a', 'b'])\n",
      "deque(['a', 'b', 'c'])\n"
     ]
    }
   ],
   "source": [
    "d.rotate(1) #오른쪽 회전\n",
    "print(d)\n",
    "d.rotate(-1) #왼쪽 회전\n",
    "print(d)"
   ]
  },
  {
   "cell_type": "code",
   "execution_count": 111,
   "metadata": {},
   "outputs": [
    {
     "name": "stdout",
     "output_type": "stream",
     "text": [
      "deque(['c', 'b', 'a', 'a', 'b', 'c'])\n"
     ]
    }
   ],
   "source": [
    "d.extendleft('abc') #입력순서 뒤집어넣기\n",
    "print(d)"
   ]
  },
  {
   "cell_type": "markdown",
   "metadata": {},
   "source": [
    "# 딕셔너리\n",
    "\n",
    "딕셔너리: 키/값 구조로 이뤄진 딕셔너리를 뜻하며 해시 테이블(Hash table)로 구현되어 있다. \n",
    " * 숫자 뿐 아니라 해시할 수만 있다면 문자, 집합까지 불변 객체를 모두 키로 사용할 수 있다.\n",
    " \n",
    "딕셔너리(해시 테이블)의 주요 연산 시간 복잡도\n",
    "1. len(a) : O(1) (요소의 개수 리턴)\n",
    "2. a[key]: O(1) (키를 조회하며 값을 리턴)\n",
    "3. a[key] = value: O(1) ( 키/값을 삽입)\n",
    "4. key in a : O(1) ( 딕셔너리에 키가 존재하는지 확인)\n",
    "\n",
    "이처럼 해시테이블은 입력과 조회 모두 O(1)에 가능하다.\n",
    "\n",
    "* 원래 파이썬 딕셔너리는 입력순서가 유지되지 않았으나 3.7부터는 내부적으로 인덱스를 이용해 입력순서를 유지하도록 개선됨. 3.6이하 버전에선 그러므로 Collections.OrderDict()라는 별도 자료형을 제공했음.\n",
    "* 그 외에 collections.defaultdict(): 조회 시 항상 디폴트 값을 생성해 키 오류 방지, collections.Counter(): 요소의 값을 키로 하고 개수를 값 형태로 만들어 카운팅. 등의 모듈이 있음."
   ]
  },
  {
   "cell_type": "markdown",
   "metadata": {},
   "source": [
    "### 딕셔너리 활용 방법"
   ]
  },
  {
   "cell_type": "code",
   "execution_count": 112,
   "metadata": {},
   "outputs": [
    {
     "name": "stdout",
     "output_type": "stream",
     "text": [
      "{'key1': 'val1', 'key2': 'val2'}\n"
     ]
    },
    {
     "data": {
      "text/plain": [
       "{'key1': 'val1', 'key2': 'val2', 'key3': 'val3'}"
      ]
     },
     "execution_count": 112,
     "metadata": {},
     "output_type": "execute_result"
    }
   ],
   "source": [
    "#선언1.\n",
    "a = dict()\n",
    "#선언2.\n",
    "a={}\n",
    "# 초기값 지정 선언\n",
    "a = {'key1': 'val1', 'key2':'val2'}\n",
    "print(a)\n",
    "#별도 선언\n",
    "a['key3'] = 'val3'\n",
    "a"
   ]
  },
  {
   "cell_type": "code",
   "execution_count": 113,
   "metadata": {},
   "outputs": [
    {
     "data": {
      "text/plain": [
       "'val1'"
      ]
     },
     "execution_count": 113,
     "metadata": {},
     "output_type": "execute_result"
    }
   ],
   "source": [
    "#조회\n",
    "a['key1']"
   ]
  },
  {
   "cell_type": "code",
   "execution_count": 114,
   "metadata": {},
   "outputs": [
    {
     "name": "stdout",
     "output_type": "stream",
     "text": [
      "key1 val1\n",
      "key2 val2\n",
      "key3 val3\n"
     ]
    }
   ],
   "source": [
    "#for문으로 조회\n",
    "for k, v in a.items():\n",
    "    print(k,v)"
   ]
  },
  {
   "cell_type": "code",
   "execution_count": 115,
   "metadata": {},
   "outputs": [
    {
     "data": {
      "text/plain": [
       "{'key2': 'val2', 'key3': 'val3'}"
      ]
     },
     "execution_count": 115,
     "metadata": {},
     "output_type": "execute_result"
    }
   ],
   "source": [
    "#삭제\n",
    "del a['key1']\n",
    "a"
   ]
  },
  {
   "cell_type": "markdown",
   "metadata": {},
   "source": [
    "### 딕셔너리 모듈"
   ]
  },
  {
   "cell_type": "code",
   "execution_count": 116,
   "metadata": {},
   "outputs": [
    {
     "name": "stdout",
     "output_type": "stream",
     "text": [
      "defaultdict(<class 'int'>, {'A': 5, 'B': 4})\n"
     ]
    },
    {
     "data": {
      "text/plain": [
       "defaultdict(int, {'A': 5, 'B': 4, 'C': 1})"
      ]
     },
     "execution_count": 116,
     "metadata": {},
     "output_type": "execute_result"
    }
   ],
   "source": [
    "#defaultdict : 존재하지 않는 키를 조회할 경우, 에러메시지를 출력하는 대신 디폴트 값을 기준으로 해당 키에 대한 딕셔너리 아이템을 생성해줌\n",
    "\n",
    "\n",
    "from collections import defaultdict\n",
    "a = defaultdict(int)\n",
    "a['A'] = 5\n",
    "a['B'] = 4\n",
    "print(a)\n",
    "a['C'] += 1\n",
    "a"
   ]
  },
  {
   "cell_type": "code",
   "execution_count": 117,
   "metadata": {},
   "outputs": [
    {
     "name": "stdout",
     "output_type": "stream",
     "text": [
      "Counter({5: 3, 6: 2, 1: 1, 2: 1, 3: 1, 4: 1})\n",
      "------------\n",
      "<class 'collections.Counter'>\n",
      "------------\n"
     ]
    },
    {
     "data": {
      "text/plain": [
       "[(5, 3), (6, 2)]"
      ]
     },
     "execution_count": 117,
     "metadata": {},
     "output_type": "execute_result"
    }
   ],
   "source": [
    "#Counter: 아이템에 대한 개수를 계산해 딕셔너리로 리턴\n",
    "\n",
    "from collections import Counter\n",
    "a = [1,2,3,4,5,5,5,6,6]\n",
    "b = Counter(a)\n",
    "print(b)\n",
    "print(\"------------\")\n",
    "print(type(b)) # collections.Counter 클래스를 가짐\n",
    "print(\"------------\")\n",
    "b.most_common(2) # 가장 빈도가 높은 요소 2개 추출"
   ]
  },
  {
   "cell_type": "code",
   "execution_count": 118,
   "metadata": {},
   "outputs": [
    {
     "data": {
      "text/plain": [
       "OrderedDict([('banana', 3), ('apple', 4), ('pear', 1), ('orange', 2)])"
      ]
     },
     "execution_count": 118,
     "metadata": {},
     "output_type": "execute_result"
    }
   ],
   "source": [
    "# OrderedDict: 3.6 이하버전에서 입력 순서를 유지하기 위한 별도의 객체 타입.\n",
    "# 최근에는 필요가 없으나 하위 버전의 파이썬을 사용할 경우 이를 써줘야함\n",
    "\n",
    "from collections import OrderedDict\n",
    "OrderedDict({'banana':3, 'apple': 4, 'pear': 1, 'orange':2})"
   ]
  },
  {
   "cell_type": "markdown",
   "metadata": {},
   "source": [
    "#### 별책: 타입선언\n"
   ]
  },
  {
   "cell_type": "code",
   "execution_count": 119,
   "metadata": {},
   "outputs": [
    {
     "name": "stdout",
     "output_type": "stream",
     "text": [
      "<class 'list'>\n",
      "<class 'tuple'>\n",
      "<class 'dict'>\n",
      "<class 'set'>\n",
      " 딕셔너리와 set는 같은 중괄호를 사용하지만, 키의 존재 유무로 서로 다른 자료형으로 선언됨\n"
     ]
    }
   ],
   "source": [
    "print(type([]))\n",
    "print(type(()))\n",
    "print(type({}))\n",
    "print(type({1}))\n",
    "print( ' 딕셔너리와 set는 같은 중괄호를 사용하지만, 키의 존재 유무로 서로 다른 자료형으로 선언됨')"
   ]
  },
  {
   "cell_type": "markdown",
   "metadata": {},
   "source": [
    "## collections 다른 기능들\n",
    "#### 일대 다 매핑 & ChainMap\n",
    "##### 일대 다 매핑 (참조링크: https://wikidocs.net/84392"
   ]
  },
  {
   "cell_type": "code",
   "execution_count": 120,
   "metadata": {},
   "outputs": [
    {
     "data": {
      "text/plain": [
       "[(50, 91.1), (100, 45.23)]"
      ]
     },
     "execution_count": 120,
     "metadata": {},
     "output_type": "execute_result"
    }
   ],
   "source": [
    "\n",
    "portfolio = [\n",
    "    ('GOOG', 100, 490.1),\n",
    "    ('IBM', 50, 91.1),\n",
    "    ('CAT', 150, 83.44),\n",
    "    ('IBM', 100, 45.23),\n",
    "    ('GOOG', 75, 572.45),\n",
    "    ('AA', 50, 23.15)\n",
    "]\n",
    "from collections import defaultdict\n",
    "holdings = defaultdict(list)\n",
    "for name, shares, price in portfolio:\n",
    "    holdings[name].append((shares, price))\n",
    "holdings['IBM'] # [ (50, 91.1), (100, 45.23) ]"
   ]
  },
  {
   "cell_type": "markdown",
   "metadata": {},
   "source": [
    "#### ChainMap:여러 매핑의 단일 뷰를 만드는 딕셔너리류 클래스. 잘은 모르겐 ㅎ\n",
    "##### 참조링크: https://python.flowdas.com/library/collections.html"
   ]
  },
  {
   "cell_type": "code",
   "execution_count": 121,
   "metadata": {},
   "outputs": [
    {
     "name": "stdout",
     "output_type": "stream",
     "text": [
      "ChainMap({'art': 'van gogh', 'opera': 'carmen'}, {'music': 'bach', 'art': 'rembrandt'})\n",
      "-----\n"
     ]
    },
    {
     "data": {
      "text/plain": [
       "['music', 'art', 'opera']"
      ]
     },
     "execution_count": 121,
     "metadata": {},
     "output_type": "execute_result"
    }
   ],
   "source": [
    "\n",
    "from collections import ChainMap\n",
    "\n",
    "baseline = {'music': 'bach', 'art': 'rembrandt'}\n",
    "adjustments = {'art': 'van gogh', 'opera': 'carmen'}\n",
    "cm = ChainMap(adjustments, baseline)\n",
    "print(cm)\n",
    "print('-----')\n",
    "list(cm)"
   ]
  },
  {
   "cell_type": "code",
   "execution_count": 122,
   "metadata": {},
   "outputs": [
    {
     "data": {
      "text/plain": [
       "ChainMap({}, {'art': 'van gogh', 'opera': 'carmen'}, {'music': 'bach', 'art': 'rembrandt'})"
      ]
     },
     "execution_count": 122,
     "metadata": {},
     "output_type": "execute_result"
    }
   ],
   "source": [
    "cm2  = cm.new_child()\n",
    "cm2"
   ]
  },
  {
   "cell_type": "code",
   "execution_count": 123,
   "metadata": {},
   "outputs": [
    {
     "name": "stdout",
     "output_type": "stream",
     "text": [
      "ChainMap({'art': 'van gogh', 'opera': 'carmen'}, {'music': 'bach', 'art': 'rembrandt'})\n"
     ]
    },
    {
     "data": {
      "text/plain": [
       "<bound method Mapping.items of ChainMap({}, {'art': 'van gogh', 'opera': 'carmen'}, {'music': 'bach', 'art': 'rembrandt'})>"
      ]
     },
     "execution_count": 123,
     "metadata": {},
     "output_type": "execute_result"
    }
   ],
   "source": [
    "print(cm2.parents)\n",
    "cm2.items"
   ]
  },
  {
   "cell_type": "code",
   "execution_count": null,
   "metadata": {},
   "outputs": [],
   "source": []
  }
 ],
 "metadata": {
  "kernelspec": {
   "display_name": "Python 3",
   "language": "python",
   "name": "python3"
  },
  "language_info": {
   "codemirror_mode": {
    "name": "ipython",
    "version": 3
   },
   "file_extension": ".py",
   "mimetype": "text/x-python",
   "name": "python",
   "nbconvert_exporter": "python",
   "pygments_lexer": "ipython3",
   "version": "3.7.6"
  }
 },
 "nbformat": 4,
 "nbformat_minor": 4
}
