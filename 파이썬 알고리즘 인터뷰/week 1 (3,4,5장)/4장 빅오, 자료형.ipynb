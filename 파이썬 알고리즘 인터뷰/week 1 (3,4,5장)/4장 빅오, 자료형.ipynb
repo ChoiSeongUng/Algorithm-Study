{
 "cells": [
  {
   "cell_type": "markdown",
   "metadata": {},
   "source": [
    "# Algorithm Study"
   ]
  },
  {
   "cell_type": "markdown",
   "metadata": {},
   "source": [
    "## 1.빅오"
   ]
  },
  {
   "cell_type": "markdown",
   "metadata": {},
   "source": [
    "#### 계산복잡도를 표기하는 대표적인 방식으로  최고차항만을 표기함."
   ]
  },
  {
   "cell_type": "markdown",
   "metadata": {},
   "source": [
    "### 1-1) 빅오 표기법의 종류"
   ]
  },
  {
   "cell_type": "markdown",
   "metadata": {},
   "source": [
    " - O(1) : 입력값에 관계없이 실행시간이 일정 <br>\n",
    " - O(logn) : 엔만한 n의 크기에 대해서도 매우 견고하다. 이진 검색이 그 예시 <br>\n",
    " - O(n) : 선형 시간 알고리즘으로 정렬되지 않은 리스트에서 최댓값 혹은 최솟값을 찾는 경우 <br>\n",
    " - O(nlogn) : 병합정렬을 비롯함 대부분의 효율좋은 정렬 알고리즘이 이에 해당 <br>\n",
    " - O(n^2) : 버블 정렬과 같은 비효율적인 정렬 알고리즘이 이에 해당 <br>\n",
    " - O(2^n) : 피보나치 수를 재귀로 계산하는 알고리즘이 이에 해당 <br>\n",
    " - O(n!) : 외판원문제를 브루트 포스로 풀이할 때가 이에 해당, 가장 느린 알고리즘 <br>"
   ]
  },
  {
   "cell_type": "markdown",
   "metadata": {},
   "source": [
    "##### * 알고리즘은 흔히 시간과 공간의 트레이드오프 관계다"
   ]
  },
  {
   "cell_type": "markdown",
   "metadata": {},
   "source": [
    "### 1-2) 상한과 최악"
   ]
  },
  {
   "cell_type": "markdown",
   "metadata": {},
   "source": [
    "- 빅오 : 상한을 의미 <br>\n",
    "빅오메가 : 하한을 의미 <br>\n",
    "빅세타 : 평균을 의미 <br>"
   ]
  },
  {
   "cell_type": "markdown",
   "metadata": {},
   "source": [
    " - n이 커지면서 일정한 비율을 가지면서 커지게 될텐데 이것의 상한이다. <br>\n",
    " \n",
    " \n",
    " - 여기서 중요한 것 : 빅오 표기법은 상한의 시간 복잡도로 최악의 경우/평균적인 경우의 시간 복잡도와는 아무런 관계가 없는 개념이라는 것이다. <br>\n",
    "\n",
    "\n",
    " - 빅오 표기법은 주어진(최선/최악/평균) 경우의 수행 시간의 상한을 나타낸다 <br>\n",
    " \n",
    " \n",
    " - 예를 들어, '최선의 경우 O(nlogn), O(n^2), O(n^3)' 모두 맞는 말"
   ]
  },
  {
   "cell_type": "markdown",
   "metadata": {},
   "source": [
    "### 1-3) 분할 상환 분석"
   ]
  },
  {
   "cell_type": "markdown",
   "metadata": {},
   "source": [
    "- 알고리즘 전체를 보지않고 최악의 경우만을 살펴보는 것은 지나치게 비관적이라는 이유로 분할 상환 분석 방법이 등장하게 됨"
   ]
  },
  {
   "cell_type": "markdown",
   "metadata": {},
   "source": [
    "- 알고리즘의 전반적인 연산 집합에 대해 비용이 높은 연산, 그리고 비용이 덜한 연산 모두를 함께 고려하는 기법"
   ]
  },
  {
   "cell_type": "markdown",
   "metadata": {},
   "source": [
    "- 최악의 경우를 여러 번에 걸쳐 골고루 나눠주는 형태로 알고리즘의 시간 복잡도를 계산"
   ]
  },
  {
   "cell_type": "markdown",
   "metadata": {},
   "source": [
    "### 1-4) 병렬화"
   ]
  },
  {
   "cell_type": "markdown",
   "metadata": {},
   "source": [
    "- GPU등을 이용한 병렬 연산을 통해 실행 속도를 높일 수 있다."
   ]
  },
  {
   "cell_type": "markdown",
   "metadata": {},
   "source": [
    "- GPU 각각의 코어는 CPU보다 훨씬 더 느리지만 GPU의 코어는 수천여 개로 구성되어 있어, 많아 봐야 수십여개에 불과한 CPU보다 수백 배 더 많은 연산을 동시에 수행할 수 있다."
   ]
  },
  {
   "cell_type": "markdown",
   "metadata": {},
   "source": [
    "- CPU가 비행기로 짐을 여러 번 나르는 것이라면, GPU는 배로 수많은 짐을 한 번에 나르는 것에 비유할 수 있다."
   ]
  },
  {
   "cell_type": "markdown",
   "metadata": {},
   "source": [
    "- 최근 시간 복잡도 외에도 병렬화 가능 여부가 알고리즘의 우수성을 평가하는 중요한 척도 중 하나이기도 하다."
   ]
  },
  {
   "cell_type": "markdown",
   "metadata": {},
   "source": [
    "## 2. 자료형"
   ]
  },
  {
   "cell_type": "markdown",
   "metadata": {},
   "source": [
    "#### 코딩테스트에서는 리스트와 딕셔너리가 많이 사용된다함."
   ]
  },
  {
   "cell_type": "markdown",
   "metadata": {},
   "source": [
    "### 2-1) 파이썬 자료형"
   ]
  },
  {
   "cell_type": "markdown",
   "metadata": {},
   "source": [
    "- 숫자 <br>\n",
    "\n",
    "최신 버전은 임의 정밀도를 제공하는 int라는 자료형이 제공됨 <br>\n",
    "\n",
    "bool은 int의 하위 클래스이고 int는 object의 하위 클래스이다.(object > int > bool) <br>\n",
    "\n",
    "*임의 정밀도 : 무제한 자릿수를 제공하는 정수형, 계산 속도는 저하되지만 오버플로 문제가 안 생김"
   ]
  },
  {
   "cell_type": "markdown",
   "metadata": {},
   "source": [
    "- 매핑 <br>\n",
    "\n",
    "키와 자료형으로 구성된 복합 자료형 <br>\n",
    "\n",
    "파이썬에서 유일한 매핑 자료형은 딕셔너리이다."
   ]
  },
  {
   "cell_type": "markdown",
   "metadata": {},
   "source": [
    "- 집합 <br>\n",
    "\n",
    "순서가 유지되지 않고 중복된 값이 있을 경우 하나의 값만 유지한다. <br>\n",
    "\n",
    "파이썬의 집합 자료형인 set은 중복된 값을 갖지 않는 자료형이다. <br>\n",
    "\n",
    "딕셔너리와 마찬가지로 {}형태로 표현 가능한데 딕셔너리와 달리 키-값 형태가 아니다."
   ]
  },
  {
   "cell_type": "markdown",
   "metadata": {},
   "source": [
    "- 시퀀스 <br>\n",
    "\n",
    "어떤 특정 대상의 순서있는 나열을 뜻한다.<br>\n",
    "\n",
    "불변 시퀀스 : str, tuple, bytes <br>\n",
    "\n",
    "가변 시퀀스 : list <br>"
   ]
  },
  {
   "cell_type": "markdown",
   "metadata": {},
   "source": [
    "### 2-2) 원시 타입"
   ]
  },
  {
   "cell_type": "markdown",
   "metadata": {},
   "source": [
    "- 메모리에 정확하게 타입 크기만큼의 공간을 할당하고 그 공간을 오로지 값으로 채워넣는다. <br>\n",
    "\n",
    "\n",
    "- 파이썬은 원시타입을 제공하지 않음"
   ]
  },
  {
   "cell_type": "markdown",
   "metadata": {},
   "source": [
    "### 2-3) 객체"
   ]
  },
  {
   "cell_type": "markdown",
   "metadata": {},
   "source": [
    "- 파이썬에서 변수를 할당한다는 것은 해당 객체를 참조한다는 것이다"
   ]
  },
  {
   "cell_type": "markdown",
   "metadata": {},
   "source": [
    "- 불변 객체\n",
    "\n",
    "bool, int, float, tuple, str"
   ]
  },
  {
   "cell_type": "code",
   "execution_count": 1,
   "metadata": {},
   "outputs": [
    {
     "data": {
      "text/plain": [
       "(140730865328816, 140730865328816, 140730865328816)"
      ]
     },
     "execution_count": 1,
     "metadata": {},
     "output_type": "execute_result"
    }
   ],
   "source": [
    "10\n",
    "a = 10\n",
    "b = a\n",
    "id(10), id(a), id(b)"
   ]
  },
  {
   "cell_type": "markdown",
   "metadata": {},
   "source": [
    "- 만약 '10'이 원시타입이었다면 각각의 값들은 각 메모리의 다른 영역에 위치할 것이다.<br>\n",
    "하지만 파이썬은 모든 것이 객체이므로 , 메모리 상에 위치한 객체의 주소는 모두 동일하다."
   ]
  },
  {
   "cell_type": "markdown",
   "metadata": {},
   "source": [
    "- 가변 객체\n",
    "\n",
    "list, set, dictionary\n",
    "\n",
    "변수의 값을 변경하면 참조하고 있는 다른 변수도 변경됨"
   ]
  },
  {
   "cell_type": "code",
   "execution_count": 17,
   "metadata": {},
   "outputs": [
    {
     "name": "stdout",
     "output_type": "stream",
     "text": [
      "[1, 2, 4, 4, 5]\n",
      "[1, 2, 4, 4, 5]\n"
     ]
    }
   ],
   "source": [
    "a = [1,2,3,4,5]\n",
    "b = a\n",
    "a[2] = 4\n",
    "print(a)\n",
    "print(b)"
   ]
  },
  {
   "cell_type": "markdown",
   "metadata": {},
   "source": [
    "*비교연산자 'is'와 '==' <br>\n",
    "\n",
    "is : id()값을 비교하는 함수 <br>\n",
    "== : 값을 비교하는 함수"
   ]
  },
  {
   "cell_type": "code",
   "execution_count": 19,
   "metadata": {},
   "outputs": [
    {
     "name": "stdout",
     "output_type": "stream",
     "text": [
      "True\n",
      "True\n",
      "True\n"
     ]
    }
   ],
   "source": [
    "a = [1,2,3]\n",
    "print(a == a)\n",
    "print(a == list(a))\n",
    "print(a is a)"
   ]
  },
  {
   "cell_type": "code",
   "execution_count": 20,
   "metadata": {},
   "outputs": [
    {
     "data": {
      "text/plain": [
       "False"
      ]
     },
     "execution_count": 20,
     "metadata": {},
     "output_type": "execute_result"
    }
   ],
   "source": [
    "a is list(a)"
   ]
  },
  {
   "cell_type": "code",
   "execution_count": 23,
   "metadata": {},
   "outputs": [
    {
     "name": "stdout",
     "output_type": "stream",
     "text": [
      "True\n",
      "False\n"
     ]
    }
   ],
   "source": [
    "import copy\n",
    "a = [1,2,3]\n",
    "print(a == copy.deepcopy(a))\n",
    "print(a is copy.deepcopy(a))"
   ]
  },
  {
   "cell_type": "markdown",
   "metadata": {},
   "source": [
    "*list와 tuple은 가변여부를 제외하고 거의 동일함."
   ]
  },
  {
   "cell_type": "markdown",
   "metadata": {},
   "source": [
    "### 2-4) 속도"
   ]
  },
  {
   "cell_type": "markdown",
   "metadata": {},
   "source": [
    "- 파이썬의 객체구조는 속도저하의 원인\n",
    "- numpy모듈은 C 기반 모듈이며 C의 원시타입을 이용하기 때문에 속도가 아주 빠름"
   ]
  },
  {
   "cell_type": "code",
   "execution_count": null,
   "metadata": {},
   "outputs": [],
   "source": []
  }
 ],
 "metadata": {
  "kernelspec": {
   "display_name": "Python 3",
   "language": "python",
   "name": "python3"
  },
  "language_info": {
   "codemirror_mode": {
    "name": "ipython",
    "version": 3
   },
   "file_extension": ".py",
   "mimetype": "text/x-python",
   "name": "python",
   "nbconvert_exporter": "python",
   "pygments_lexer": "ipython3",
   "version": "3.7.6"
  }
 },
 "nbformat": 4,
 "nbformat_minor": 2
}
