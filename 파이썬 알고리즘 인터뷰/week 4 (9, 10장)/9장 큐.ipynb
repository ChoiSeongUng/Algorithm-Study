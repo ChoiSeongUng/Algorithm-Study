{
 "cells": [
  {
   "cell_type": "markdown",
   "metadata": {},
   "source": [
    "# 0.큐"
   ]
  },
  {
   "cell_type": "markdown",
   "metadata": {},
   "source": [
    "- 선입선출(FIFO) 방식의 자료구조\n",
    "- 한 쪽 끝에서는 삽입 연산이 이루어지고 다른 쪽 끝에서는 삭제연산이 이루어진다."
   ]
  },
  {
   "cell_type": "markdown",
   "metadata": {},
   "source": [
    "# 1.큐를 이용한 스택 구현"
   ]
  },
  {
   "cell_type": "markdown",
   "metadata": {},
   "source": [
    "- 큐의 FIFO연산(append, popleft)을 이용해 스택의 push(), pop(), top(), empty() 구현\n",
    "- stack.push(x) : x를 스택에 처음에 삽입한다.\n",
    "- stack.pop() : 스택의 첫 번째 요소 삭제\n",
    "- stack.top() : 스택의 첫 번째 요소를 가져온다.\n",
    "- stack.empty() : 스택이 비어있는지 여부를 리턴한다."
   ]
  },
  {
   "cell_type": "code",
   "execution_count": 27,
   "metadata": {},
   "outputs": [],
   "source": [
    "import collections\n",
    "\n",
    "\n",
    "class MyStack:\n",
    "    \n",
    "    def __init__(self):\n",
    "        self.q = collections.deque()\n",
    "\n",
    "    def push(self, x):\n",
    "        self.q.append(x)\n",
    "        for _ in range(len(self.q) - 1):\n",
    "            self.q.append(self.q.popleft())\n",
    "\n",
    "    def pop(self):\n",
    "        return self.q.popleft()\n",
    "\n",
    "    def top(self):\n",
    "        return self.q[0]\n",
    "\n",
    "    def empty(self):\n",
    "        return len(self.q) == 0"
   ]
  },
  {
   "cell_type": "code",
   "execution_count": 33,
   "metadata": {},
   "outputs": [
    {
     "name": "stdout",
     "output_type": "stream",
     "text": [
      "2\n",
      "2\n",
      "False\n"
     ]
    }
   ],
   "source": [
    "s = Mystack()\n",
    "s.push(1)\n",
    "s.push(2)\n",
    "print(s.top())\n",
    "print(s.pop())\n",
    "print(s.empty())"
   ]
  },
  {
   "cell_type": "markdown",
   "metadata": {},
   "source": [
    "# 2.스택을 이용한 큐 구현"
   ]
  },
  {
   "cell_type": "markdown",
   "metadata": {},
   "source": [
    "- 스택의 LIFO연산(append, pop)을 이용해 큐의 push(), pop(), peek(), empty() 구현\n",
    "- queue.push(x) : 요소 x를 큐 마지막에 삽입한다.\n",
    "- queue.pop() : 큐 처음에 있는 요소를 제거한다.\n",
    "- queue.peek() : 큐 처음에 있는 요소를 조회한다.\n",
    "- queue.empty() : 큐가 비어 있는지 여부를 리턴한다.\n",
    "- 주의점 : queue.push(x) 연산 할 때 1번 문제와 같은 방식으로 하게 되면 무한반복의 문제에 걸림(뒤에꺼 꺼내서 뒤에 붙임 -> 결국 똑같) <br>\n",
    "-> 2개의 스택이 필요"
   ]
  },
  {
   "cell_type": "code",
   "execution_count": 36,
   "metadata": {},
   "outputs": [],
   "source": [
    "class MyQueue:\n",
    "    def __init__(self):\n",
    "        self.input = []\n",
    "        self.output = []\n",
    "\n",
    "    def push(self, x):\n",
    "        self.input.append(x)\n",
    "\n",
    "    def pop(self):\n",
    "        self.peek()\n",
    "        return self.output.pop()\n",
    "\n",
    "    def peek(self):\n",
    "        # output이 없으면 모두 재입력\n",
    "        if not self.output:\n",
    "            while self.input:\n",
    "                self.output.append(self.input.pop())\n",
    "        return self.output[-1]\n",
    "\n",
    "    def empty(self):\n",
    "        return self.input == [] and self.output == []"
   ]
  },
  {
   "cell_type": "code",
   "execution_count": 39,
   "metadata": {},
   "outputs": [
    {
     "name": "stdout",
     "output_type": "stream",
     "text": [
      "1\n",
      "1\n",
      "False\n"
     ]
    }
   ],
   "source": [
    "q = MyQueue()\n",
    "q.push(1)\n",
    "q.push(2)\n",
    "print(q.peek())\n",
    "print(q.pop())\n",
    "print(q.empty())"
   ]
  },
  {
   "cell_type": "markdown",
   "metadata": {},
   "source": [
    "# 3.원형 큐 디자인"
   ]
  },
  {
   "cell_type": "markdown",
   "metadata": {},
   "source": [
    "- 리어 포인터 : 삽입연산하는 포인터\n",
    "- 프론트 포인터 : 삭제연산하는 포인터"
   ]
  },
  {
   "cell_type": "code",
   "execution_count": 42,
   "metadata": {},
   "outputs": [],
   "source": [
    "class MyCircularQueue:\n",
    "    def __init__(self, k: int):\n",
    "        self.q = [None] * k\n",
    "        self.maxlen = k\n",
    "        self.p1 = 0\n",
    "        self.p2 = 0\n",
    "\n",
    "    # enQueue(): 리어 포인터 이동\n",
    "    def enQueue(self, value: int) -> bool:\n",
    "        if self.q[self.p2] is None:\n",
    "            self.q[self.p2] = value\n",
    "            self.p2 = (self.p2 + 1) % self.maxlen #이게 원형 큐의 핵심인듯\n",
    "            return True\n",
    "        else:\n",
    "            return False\n",
    "\n",
    "    # deQueue(): 프론트 포인터 이동\n",
    "    def deQueue(self) -> bool:\n",
    "        if self.q[self.p1] is None:\n",
    "            return False\n",
    "        else:\n",
    "            self.q[self.p1] = None\n",
    "            self.p1 = (self.p1 + 1) % self.maxlen #이게 원형 큐의 핵심인듯\n",
    "            return True\n",
    "\n",
    "    def Front(self) -> int:\n",
    "        return -1 if self.q[self.p1] is None else self.q[self.p1]\n",
    "\n",
    "    def Rear(self) -> int:\n",
    "        return -1 if self.q[self.p2 - 1] is None else self.q[self.p2 - 1]\n",
    "\n",
    "    def isEmpty(self) -> bool:\n",
    "        return self.p1 == self.p2 and self.q[self.p1] is None\n",
    "\n",
    "    def isFull(self) -> bool:\n",
    "        return self.p1 == self.p2 and self.q[self.p1] is not None"
   ]
  },
  {
   "cell_type": "code",
   "execution_count": 45,
   "metadata": {},
   "outputs": [
    {
     "name": "stdout",
     "output_type": "stream",
     "text": [
      "True\n",
      "True\n",
      "True\n",
      "True\n",
      "40\n",
      "False\n",
      "True\n",
      "True\n",
      "True\n",
      "True\n",
      "60\n",
      "30\n"
     ]
    }
   ],
   "source": [
    "c = MyCircularQueue(5)\n",
    "print(c.enQueue(10))\n",
    "print(c.enQueue(20))\n",
    "print(c.enQueue(30))\n",
    "print(c.enQueue(40))\n",
    "print(c.Rear())\n",
    "print(c.isFull())\n",
    "print(c.deQueue())\n",
    "print(c.deQueue())\n",
    "print(c.enQueue(50))\n",
    "print(c.enQueue(60))\n",
    "print(c.Rear())\n",
    "print(c.Front())"
   ]
  },
  {
   "cell_type": "code",
   "execution_count": null,
   "metadata": {},
   "outputs": [],
   "source": []
  }
 ],
 "metadata": {
  "kernelspec": {
   "display_name": "Python 3",
   "language": "python",
   "name": "python3"
  },
  "language_info": {
   "codemirror_mode": {
    "name": "ipython",
    "version": 3
   },
   "file_extension": ".py",
   "mimetype": "text/x-python",
   "name": "python",
   "nbconvert_exporter": "python",
   "pygments_lexer": "ipython3",
   "version": "3.7.4"
  }
 },
 "nbformat": 4,
 "nbformat_minor": 2
}
